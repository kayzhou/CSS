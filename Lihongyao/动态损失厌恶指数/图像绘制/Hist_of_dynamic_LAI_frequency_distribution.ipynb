{
 "cells": [
  {
   "cell_type": "code",
   "execution_count": 27,
   "id": "ed8dfed9",
   "metadata": {},
   "outputs": [],
   "source": [
    "import pandas as pd\n",
    "import numpy as np\n",
    "import matplotlib.pyplot as plt\n",
    "import seaborn as sns\n",
    "import scipy.stats as stats\n",
    "plt.rcParams['axes.unicode_minus'] = False\n",
    "import warnings\n",
    "warnings.filterwarnings('ignore')"
   ]
  },
  {
   "cell_type": "code",
   "execution_count": 28,
   "id": "5066aab2",
   "metadata": {},
   "outputs": [],
   "source": [
    "target_60 = pd.read_csv('target_day.csv')"
   ]
  },
  {
   "cell_type": "code",
   "execution_count": 29,
   "id": "cba95672",
   "metadata": {},
   "outputs": [],
   "source": [
    "#异常值处理(滑动60天)\n",
    "qt_60 = stats.scoreatpercentile(target_60[\"slope_ratio\"],[1,99])#存储两个极端值，用于截断\n",
    "target_60['LAI'] = target_60['slope_ratio'][(target_60['slope_ratio']>qt_60[0])&(target_60['slope_ratio']<qt_60[1])]\n",
    "target_60['LAI'] = pd.DataFrame(target_60['LAI'])\n",
    "target_60['LAI'].to_csv('target_60_qt.csv')"
   ]
  },
  {
   "cell_type": "code",
   "execution_count": 30,
   "id": "4cb4b4ad",
   "metadata": {},
   "outputs": [
    {
     "data": {
      "text/html": [
       "<div>\n",
       "<style scoped>\n",
       "    .dataframe tbody tr th:only-of-type {\n",
       "        vertical-align: middle;\n",
       "    }\n",
       "\n",
       "    .dataframe tbody tr th {\n",
       "        vertical-align: top;\n",
       "    }\n",
       "\n",
       "    .dataframe thead th {\n",
       "        text-align: right;\n",
       "    }\n",
       "</style>\n",
       "<table border=\"1\" class=\"dataframe\">\n",
       "  <thead>\n",
       "    <tr style=\"text-align: right;\">\n",
       "      <th></th>\n",
       "      <th>Unnamed: 0</th>\n",
       "      <th>LAI</th>\n",
       "    </tr>\n",
       "  </thead>\n",
       "  <tbody>\n",
       "    <tr>\n",
       "      <th>0</th>\n",
       "      <td>0</td>\n",
       "      <td>-1.840243</td>\n",
       "    </tr>\n",
       "    <tr>\n",
       "      <th>1</th>\n",
       "      <td>1</td>\n",
       "      <td>-2.962380</td>\n",
       "    </tr>\n",
       "    <tr>\n",
       "      <th>2</th>\n",
       "      <td>2</td>\n",
       "      <td>-2.633004</td>\n",
       "    </tr>\n",
       "    <tr>\n",
       "      <th>3</th>\n",
       "      <td>3</td>\n",
       "      <td>-4.355890</td>\n",
       "    </tr>\n",
       "    <tr>\n",
       "      <th>4</th>\n",
       "      <td>4</td>\n",
       "      <td>-5.787868</td>\n",
       "    </tr>\n",
       "  </tbody>\n",
       "</table>\n",
       "</div>"
      ],
      "text/plain": [
       "   Unnamed: 0       LAI\n",
       "0           0 -1.840243\n",
       "1           1 -2.962380\n",
       "2           2 -2.633004\n",
       "3           3 -4.355890\n",
       "4           4 -5.787868"
      ]
     },
     "execution_count": 30,
     "metadata": {},
     "output_type": "execute_result"
    }
   ],
   "source": [
    "#保存成新文件\n",
    "target_qt_60 = pd.read_csv('target_60_qt.csv')\n",
    "target_qt_60.head()"
   ]
  },
  {
   "cell_type": "code",
   "execution_count": 31,
   "id": "0342d6c7",
   "metadata": {},
   "outputs": [],
   "source": [
    "#自定义分组(滑动60天)\n",
    "bins = [-35,-5,-4,-3,-2,-1,0,1,2,3,4,5,35]\n",
    "target_qt_60['bins'] = pd.cut(target_qt_60['LAI'], bins)\n",
    "df_bins = target_qt_60['bins'].value_counts().to_frame()\n",
    "df_bins.index.names = ['bins']\n",
    "df_bins.sort_index(ascending=True, inplace=True)\n",
    "df_bins.to_csv('df_bins.csv')"
   ]
  },
  {
   "cell_type": "code",
   "execution_count": 32,
   "id": "8ca8eac0",
   "metadata": {},
   "outputs": [
    {
     "data": {
      "image/png": "[encoded data removed]",
      "text/plain": [
       "<Figure size 684x504 with 1 Axes>"
      ]
     },
     "metadata": {},
     "output_type": "display_data"
    }
   ],
   "source": [
    "df_bins_60 = pd.read_csv('df_bins.csv')\n",
    "df_bins_60.columns = ['bins', 'count']\n",
    "fig, ax = plt.subplots(1,1,figsize=(9.5,7))\n",
    "sns.set_theme(style=\"white\")\n",
    "sns.barplot(x = 'bins',y = 'count',ax=ax,data=df_bins_60,color='#1f77b4')\n",
    "plt.xlabel(' ',fontdict={'weight': 'normal', 'size': 15})\n",
    "plt.ylabel('频数',fontdict={'weight': 'normal', 'size': 15})\n",
    "plt.yticks(fontproperties = 'Times New Roman',size = 14)\n",
    "plt.xticks(fontproperties = 'Times New Roman', size = 14)\n",
    "\n",
    "\n",
    "plt.rcParams['font.family'] = ['sans-serif']\n",
    "plt.rcParams['font.sans-serif'] = ['SimHei']\n",
    "#plt.savefig('dynamic_60.png',dpi = 300)\n",
    "plt.show()"
   ]
  },
  {
   "cell_type": "code",
   "execution_count": null,
   "id": "b0bc610b",
   "metadata": {},
   "outputs": [],
   "source": []
  }
 ],
 "metadata": {
  "kernelspec": {
   "display_name": "Python 3",
   "language": "python",
   "name": "python3"
  },
  "language_info": {
   "codemirror_mode": {
    "name": "ipython",
    "version": 3
   },
   "file_extension": ".py",
   "mimetype": "text/x-python",
   "name": "python",
   "nbconvert_exporter": "python",
   "pygments_lexer": "ipython3",
   "version": "3.8.8"
  },
  "toc": {
   "base_numbering": 1,
   "nav_menu": {},
   "number_sections": true,
   "sideBar": true,
   "skip_h1_title": false,
   "title_cell": "Table of Contents",
   "title_sidebar": "Contents",
   "toc_cell": false,
   "toc_position": {},
   "toc_section_display": true,
   "toc_window_display": false
  }
 },
 "nbformat": 4,
 "nbformat_minor": 5
}
