{
 "cells": [
  {
   "cell_type": "code",
   "execution_count": 4,
   "id": "dd22b792",
   "metadata": {},
   "outputs": [],
   "source": [
    "from statsmodels.tsa.stattools import grangercausalitytests\n",
    "import pandas as pd\n",
    "import numpy as np\n",
    "import matplotlib.pyplot as plt\n",
    "import seaborn as sns\n",
    "import scipy.stats as stats\n",
    "import statsmodels.api as sm\n",
    "from scipy.stats import chi2_contingency"
   ]
  },
  {
   "cell_type": "code",
   "execution_count": 5,
   "id": "73e62245",
   "metadata": {},
   "outputs": [],
   "source": [
    "df = pd.read_csv('granger_test_select.csv')"
   ]
  },
  {
   "cell_type": "code",
   "execution_count": 6,
   "id": "6858bf8e",
   "metadata": {},
   "outputs": [
    {
     "data": {
      "text/html": [
       "<div>\n",
       "<style scoped>\n",
       "    .dataframe tbody tr th:only-of-type {\n",
       "        vertical-align: middle;\n",
       "    }\n",
       "\n",
       "    .dataframe tbody tr th {\n",
       "        vertical-align: top;\n",
       "    }\n",
       "\n",
       "    .dataframe thead th {\n",
       "        text-align: right;\n",
       "    }\n",
       "</style>\n",
       "<table border=\"1\" class=\"dataframe\">\n",
       "  <thead>\n",
       "    <tr style=\"text-align: right;\">\n",
       "      <th></th>\n",
       "      <th>start_date</th>\n",
       "      <th>end_date</th>\n",
       "      <th>Clsindex_s</th>\n",
       "      <th>Clsindex_e</th>\n",
       "      <th>r</th>\n",
       "      <th>LAI</th>\n",
       "      <th>bins</th>\n",
       "      <th>classification</th>\n",
       "    </tr>\n",
       "  </thead>\n",
       "  <tbody>\n",
       "    <tr>\n",
       "      <th>0</th>\n",
       "      <td>2014/12/2</td>\n",
       "      <td>2015/3/4</td>\n",
       "      <td>2763.545</td>\n",
       "      <td>3279.533</td>\n",
       "      <td>0.360167</td>\n",
       "      <td>-1.840243</td>\n",
       "      <td>(-2, -1]</td>\n",
       "      <td>1</td>\n",
       "    </tr>\n",
       "    <tr>\n",
       "      <th>1</th>\n",
       "      <td>2014/12/9</td>\n",
       "      <td>2015/3/11</td>\n",
       "      <td>2856.269</td>\n",
       "      <td>3290.900</td>\n",
       "      <td>0.164000</td>\n",
       "      <td>-2.962380</td>\n",
       "      <td>(-3, -2]</td>\n",
       "      <td>2</td>\n",
       "    </tr>\n",
       "    <tr>\n",
       "      <th>2</th>\n",
       "      <td>2014/12/16</td>\n",
       "      <td>2015/3/18</td>\n",
       "      <td>3021.518</td>\n",
       "      <td>3577.301</td>\n",
       "      <td>0.339167</td>\n",
       "      <td>-2.633004</td>\n",
       "      <td>(-3, -2]</td>\n",
       "      <td>2</td>\n",
       "    </tr>\n",
       "    <tr>\n",
       "      <th>3</th>\n",
       "      <td>2014/12/23</td>\n",
       "      <td>2015/3/25</td>\n",
       "      <td>3032.612</td>\n",
       "      <td>3660.727</td>\n",
       "      <td>0.281667</td>\n",
       "      <td>-4.355890</td>\n",
       "      <td>(-5, -4]</td>\n",
       "      <td>3</td>\n",
       "    </tr>\n",
       "    <tr>\n",
       "      <th>4</th>\n",
       "      <td>2014/12/30</td>\n",
       "      <td>2015/4/1</td>\n",
       "      <td>3165.815</td>\n",
       "      <td>3810.294</td>\n",
       "      <td>0.325000</td>\n",
       "      <td>-5.787868</td>\n",
       "      <td>(-35, -5]</td>\n",
       "      <td>3</td>\n",
       "    </tr>\n",
       "  </tbody>\n",
       "</table>\n",
       "</div>"
      ],
      "text/plain": [
       "   start_date   end_date  Clsindex_s  Clsindex_e         r       LAI  \\\n",
       "0   2014/12/2   2015/3/4    2763.545    3279.533  0.360167 -1.840243   \n",
       "1   2014/12/9  2015/3/11    2856.269    3290.900  0.164000 -2.962380   \n",
       "2  2014/12/16  2015/3/18    3021.518    3577.301  0.339167 -2.633004   \n",
       "3  2014/12/23  2015/3/25    3032.612    3660.727  0.281667 -4.355890   \n",
       "4  2014/12/30   2015/4/1    3165.815    3810.294  0.325000 -5.787868   \n",
       "\n",
       "        bins classification  \n",
       "0   (-2, -1]              1  \n",
       "1   (-3, -2]              2  \n",
       "2   (-3, -2]              2  \n",
       "3   (-5, -4]              3  \n",
       "4  (-35, -5]              3  "
      ]
     },
     "execution_count": 6,
     "metadata": {},
     "output_type": "execute_result"
    }
   ],
   "source": [
    "#变量转为分类变量\n",
    "df['classification'] = df['classification'].astype('category')\n",
    "df.head()"
   ]
  },
  {
   "cell_type": "markdown",
   "id": "788558d9",
   "metadata": {},
   "source": [
    "各列含义为：滑动开始日期、滑动结束日期、滑动开始日期的收盘指数、滑动结束日期的收盘指数、区间收盘指数涨跌幅、动态LAI、动态LAI分组、分组类别"
   ]
  },
  {
   "cell_type": "code",
   "execution_count": 7,
   "id": "3c035dac",
   "metadata": {},
   "outputs": [],
   "source": [
    "df[\"r\"] = df['r'].abs()\n",
    "df[['r', 'classification']].to_csv('r_abs_classification.csv')\n",
    "df_train = pd.read_csv(\"r_abs_classification.csv\")"
   ]
  },
  {
   "cell_type": "code",
   "execution_count": 8,
   "id": "8900723b",
   "metadata": {},
   "outputs": [
    {
     "name": "stdout",
     "output_type": "stream",
     "text": [
      "ADF Test: r\n",
      "ADF Statistics: -2.553113\n",
      "p-value: 0.103080\n",
      "Critical values:\n",
      "\t1%: -3.563\n",
      "\t5%: -2.919\n",
      "\t10%: -2.597\n",
      "ADF Test: classfication\n",
      "ADF Statistics: -3.437758\n",
      "p-value: 0.009737\n",
      "Critical values:\n",
      "\t1%: -3.563\n",
      "\t5%: -2.919\n",
      "\t10%: -2.597\n"
     ]
    }
   ],
   "source": [
    "#ADF检验（时间序列平稳性检验）\n",
    "from statsmodels.tsa.stattools import adfuller\n",
    "\n",
    "def adf_test(df):\n",
    "    result = adfuller(df.values)\n",
    "    print('ADF Statistics: %f' % result[0])\n",
    "    print('p-value: %f' % result[1])\n",
    "    print('Critical values:')\n",
    "    for key, value in result[4].items():\n",
    "        print('\\t%s: %.3f' % (key, value))\n",
    "        \n",
    "print('ADF Test: r')\n",
    "adf_test(df_train['r'])\n",
    "print('ADF Test: classfication')\n",
    "adf_test(df_train['classification'])"
   ]
  },
  {
   "cell_type": "code",
   "execution_count": 9,
   "id": "1313d14d",
   "metadata": {},
   "outputs": [
    {
     "data": {
      "text/html": [
       "<div>\n",
       "<style scoped>\n",
       "    .dataframe tbody tr th:only-of-type {\n",
       "        vertical-align: middle;\n",
       "    }\n",
       "\n",
       "    .dataframe tbody tr th {\n",
       "        vertical-align: top;\n",
       "    }\n",
       "\n",
       "    .dataframe thead th {\n",
       "        text-align: right;\n",
       "    }\n",
       "</style>\n",
       "<table border=\"1\" class=\"dataframe\">\n",
       "  <thead>\n",
       "    <tr style=\"text-align: right;\">\n",
       "      <th></th>\n",
       "      <th>Unnamed: 0</th>\n",
       "      <th>r</th>\n",
       "      <th>classification</th>\n",
       "      <th>r_diff</th>\n",
       "    </tr>\n",
       "  </thead>\n",
       "  <tbody>\n",
       "    <tr>\n",
       "      <th>0</th>\n",
       "      <td>0</td>\n",
       "      <td>0.360167</td>\n",
       "      <td>1</td>\n",
       "      <td>NaN</td>\n",
       "    </tr>\n",
       "    <tr>\n",
       "      <th>1</th>\n",
       "      <td>1</td>\n",
       "      <td>0.164000</td>\n",
       "      <td>2</td>\n",
       "      <td>-0.196167</td>\n",
       "    </tr>\n",
       "    <tr>\n",
       "      <th>2</th>\n",
       "      <td>2</td>\n",
       "      <td>0.339167</td>\n",
       "      <td>2</td>\n",
       "      <td>0.175167</td>\n",
       "    </tr>\n",
       "    <tr>\n",
       "      <th>3</th>\n",
       "      <td>3</td>\n",
       "      <td>0.281667</td>\n",
       "      <td>3</td>\n",
       "      <td>-0.057500</td>\n",
       "    </tr>\n",
       "    <tr>\n",
       "      <th>4</th>\n",
       "      <td>4</td>\n",
       "      <td>0.325000</td>\n",
       "      <td>3</td>\n",
       "      <td>0.043333</td>\n",
       "    </tr>\n",
       "  </tbody>\n",
       "</table>\n",
       "</div>"
      ],
      "text/plain": [
       "   Unnamed: 0         r  classification    r_diff\n",
       "0           0  0.360167               1       NaN\n",
       "1           1  0.164000               2 -0.196167\n",
       "2           2  0.339167               2  0.175167\n",
       "3           3  0.281667               3 -0.057500\n",
       "4           4  0.325000               3  0.043333"
      ]
     },
     "execution_count": 9,
     "metadata": {},
     "output_type": "execute_result"
    }
   ],
   "source": [
    "#r列不平稳，尝试对r列进行差分\n",
    "df_train['r_diff'] = df_train['r']-df_train['r'].shift(1)\n",
    "df_train.head()"
   ]
  },
  {
   "cell_type": "code",
   "execution_count": 10,
   "id": "3e8b0e55",
   "metadata": {},
   "outputs": [],
   "source": [
    "#删除缺失值\n",
    "df_train = df_train.dropna()"
   ]
  },
  {
   "cell_type": "code",
   "execution_count": 11,
   "id": "16a88132",
   "metadata": {},
   "outputs": [
    {
     "name": "stdout",
     "output_type": "stream",
     "text": [
      "ADF : classfication\n",
      "ADF Statistics: -5.620049\n",
      "p-value: 0.000001\n",
      "Critical values:\n",
      "\t1%: -3.571\n",
      "\t5%: -2.923\n",
      "\t10%: -2.599\n"
     ]
    }
   ],
   "source": [
    "#对差分后的r列再次进行ADF检验\n",
    "print('ADF : classfication')\n",
    "adf_test(df_train['r_diff'])"
   ]
  },
  {
   "cell_type": "code",
   "execution_count": 13,
   "id": "8fa6b810",
   "metadata": {},
   "outputs": [],
   "source": [
    "#检验通过，保存两列数据至data_train.csv文件中\n",
    "data_train = df_train[[\"r_diff\", \"classification\"]]"
   ]
  },
  {
   "cell_type": "code",
   "execution_count": 14,
   "id": "25abff4a",
   "metadata": {},
   "outputs": [
    {
     "name": "stdout",
     "output_type": "stream",
     "text": [
      "Lag Order = 1\n",
      "AIC :  -5.07498207188981\n",
      "BIC :  -4.847708468039889\n",
      "FPE :  0.006252898778336265\n",
      "HQIC:  -4.988134105864899 \n",
      "\n",
      "Lag Order = 2\n",
      "AIC :  -4.987095094085215\n",
      "BIC :  -4.604690492999587\n",
      "FPE :  0.006834624807383774\n",
      "HQIC:  -4.8414732409298376 \n",
      "\n",
      "Lag Order = 3\n",
      "AIC :  -5.113939272737865\n",
      "BIC :  -4.573419187563401\n",
      "FPE :  0.006036060594583399\n",
      "HQIC:  -4.908866706373167 \n",
      "\n",
      "Lag Order = 4\n",
      "AIC :  -5.046779347772586\n",
      "BIC :  -4.3450789686821265\n",
      "FPE :  0.0064880055654493165\n",
      "HQIC:  -4.78160574954823 \n",
      "\n",
      "Lag Order = 5\n",
      "AIC :  -4.988545331305429\n",
      "BIC :  -4.122518794334763\n",
      "FPE :  0.0069371281600959355\n",
      "HQIC:  -4.66265372769824 \n",
      "\n",
      "Lag Order = 6\n",
      "AIC :  -4.869417532401553\n",
      "BIC :  -3.835837612646847\n",
      "FPE :  0.007924527756085514\n",
      "HQIC:  -4.482232299752902 \n",
      "\n",
      "Lag Order = 7\n",
      "AIC :  -4.811289900551152\n",
      "BIC :  -3.606848240704273\n",
      "FPE :  0.008579935587759394\n",
      "HQIC:  -4.362286142816596 \n",
      "\n",
      "Lag Order = 8\n",
      "AIC :  -4.699252663537832\n",
      "BIC :  -3.3205606736919027\n",
      "FPE :  0.009905816068701192\n",
      "HQIC:  -4.187967209147083 \n",
      "\n",
      "Lag Order = 9\n",
      "AIC :  -4.739772007072016\n",
      "BIC :  -3.1833626025056114\n",
      "FPE :  0.009961249552834279\n",
      "HQIC:  -4.165816319869215 \n",
      "\n",
      "Lag Order = 10\n",
      "AIC :  -4.670417185357503\n",
      "BIC :  -2.9327475670741348\n",
      "FPE :  0.011410827335854669\n",
      "HQIC:  -4.033492544346846 \n",
      "\n"
     ]
    },
    {
     "name": "stderr",
     "output_type": "stream",
     "text": [
      "C:\\ProgramData\\Anaconda3\\lib\\site-packages\\statsmodels\\tsa\\base\\tsa_model.py:578: ValueWarning: An unsupported index was provided and will be ignored when e.g. forecasting.\n",
      "  warnings.warn('An unsupported index was provided and will be'\n"
     ]
    }
   ],
   "source": [
    "#判断滞后阶数\n",
    "from statsmodels.tsa.api import VAR\n",
    "\n",
    "model = VAR(data_train)\n",
    "for i in [1,2,3,4,5,6,7,8,9,10]:\n",
    "    result = model.fit(i)\n",
    "    print('Lag Order =', i)\n",
    "    print('AIC : ', result.aic)\n",
    "    print('BIC : ', result.bic)\n",
    "    print('FPE : ', result.fpe)\n",
    "    print('HQIC: ', result.hqic, '\\n')"
   ]
  },
  {
   "cell_type": "code",
   "execution_count": 15,
   "id": "3aa7f0c1",
   "metadata": {},
   "outputs": [
    {
     "data": {
      "text/plain": [
       "  Summary of Regression Results   \n",
       "==================================\n",
       "Model:                         VAR\n",
       "Method:                        OLS\n",
       "Date:           Sat, 22, Apr, 2023\n",
       "Time:                     11:13:58\n",
       "--------------------------------------------------------------------\n",
       "No. of Equations:         2.00000    BIC:                   -4.57342\n",
       "Nobs:                     49.0000    HQIC:                  -4.90887\n",
       "Log likelihood:          0.235536    FPE:                 0.00603606\n",
       "AIC:                     -5.11394    Det(Omega_mle):      0.00462136\n",
       "--------------------------------------------------------------------\n",
       "Results for equation r_diff\n",
       "====================================================================================\n",
       "                       coefficient       std. error           t-stat            prob\n",
       "------------------------------------------------------------------------------------\n",
       "const                    -0.042585         0.039515           -1.078           0.281\n",
       "L1.r_diff                 0.024932         0.142848            0.175           0.861\n",
       "L1.classification        -0.025227         0.021626           -1.166           0.243\n",
       "L2.r_diff                -0.088310         0.137939           -0.640           0.522\n",
       "L2.classification         0.001072         0.026696            0.040           0.968\n",
       "L3.r_diff                -0.252559         0.131957           -1.914           0.056\n",
       "L3.classification         0.043207         0.021948            1.969           0.049\n",
       "====================================================================================\n",
       "\n",
       "Results for equation classification\n",
       "====================================================================================\n",
       "                       coefficient       std. error           t-stat            prob\n",
       "------------------------------------------------------------------------------------\n",
       "const                     0.621026         0.271400            2.288           0.022\n",
       "L1.r_diff                 0.840911         0.981105            0.857           0.391\n",
       "L1.classification         0.683759         0.148534            4.603           0.000\n",
       "L2.r_diff                 0.347942         0.947389            0.367           0.713\n",
       "L2.classification        -0.224969         0.183355           -1.227           0.220\n",
       "L3.r_diff                 1.321195         0.906310            1.458           0.145\n",
       "L3.classification         0.173850         0.150740            1.153           0.249\n",
       "====================================================================================\n",
       "\n",
       "Correlation matrix of residuals\n",
       "                    r_diff  classification\n",
       "r_diff            1.000000        0.253956\n",
       "classification    0.253956        1.000000\n",
       "\n"
      ]
     },
     "execution_count": 15,
     "metadata": {},
     "output_type": "execute_result"
    }
   ],
   "source": [
    "results = model.fit(maxlags=3, ic='aic')\n",
    "results.summary()"
   ]
  },
  {
   "cell_type": "code",
   "execution_count": 18,
   "id": "7b640d73",
   "metadata": {},
   "outputs": [
    {
     "name": "stdout",
     "output_type": "stream",
     "text": [
      "r_diff : 1.75\n",
      "classification : 2.07\n"
     ]
    }
   ],
   "source": [
    "#DW--检验残差自相关性\n",
    "#DW值可以在0到4之间变化。它越接近值2，则没有明显的序列相关性。接近0时，存在正序列相关，而接近4时，则具有负序列相关\n",
    "from statsmodels.stats.stattools import durbin_watson\n",
    "\n",
    "out = durbin_watson(results.resid)\n",
    "\n",
    "for col, val in zip(data_train.columns, out):\n",
    "    print(col, ':', round(val, 2))"
   ]
  },
  {
   "cell_type": "code",
   "execution_count": 19,
   "id": "406cabdc",
   "metadata": {},
   "outputs": [
    {
     "name": "stdout",
     "output_type": "stream",
     "text": [
      "                  r_diff_x  classification_x\n",
      "r_diff_y            1.0000            0.3901\n",
      "classification_y    0.1745            1.0000\n",
      "                  r_diff_x  classification_x\n",
      "r_diff_y            1.0000            0.3639\n",
      "classification_y    0.1745            1.0000\n",
      "                  r_diff_x  classification_x\n",
      "r_diff_y            1.0000            0.0601\n",
      "classification_y    0.1745            1.0000\n",
      "                  r_diff_x  classification_x\n",
      "r_diff_y            1.0000            0.0107\n",
      "classification_y    0.1745            1.0000\n",
      "                  r_diff_x  classification_x\n",
      "r_diff_y            1.0000            0.0042\n",
      "classification_y    0.1745            1.0000\n",
      "                  r_diff_x  classification_x\n",
      "r_diff_y            1.0000            0.0042\n",
      "classification_y    0.1745            1.0000\n",
      "                  r_diff_x  classification_x\n",
      "r_diff_y            1.0000            0.0042\n",
      "classification_y    0.0997            1.0000\n",
      "                  r_diff_x  classification_x\n",
      "r_diff_y            1.0000            0.0042\n",
      "classification_y    0.0997            1.0000\n"
     ]
    }
   ],
   "source": [
    "from statsmodels.tsa.stattools import grangercausalitytests\n",
    "\n",
    "# maxlag=10\n",
    "test = 'ssr_chi2test'\n",
    "\n",
    "def grangers_causation_matrix(data, variables, maxlag, test='ssr_chi2test', verbose=False):    \n",
    "   \n",
    "    df = pd.DataFrame(np.zeros((len(variables), len(variables))), columns=variables, index=variables)\n",
    "    for c in df.columns:\n",
    "        for r in df.index:\n",
    "            test_result = grangercausalitytests(data[[r, c]], maxlag=maxlag, verbose=False)\n",
    "            p_values = [round(test_result[i+1][0][test][1],4) for i in range(maxlag)]\n",
    "            if verbose: print(f'Y = {r}, X = {c}, P Values = {p_values}')\n",
    "            min_p_value = np.min(p_values)\n",
    "            df.loc[r, c] = min_p_value\n",
    "    df.columns = [var + '_x' for var in variables]\n",
    "    df.index = [var + '_y' for var in variables]\n",
    "    return df\n",
    "\n",
    "for i in range(1, 9):\n",
    "    print(grangers_causation_matrix(data_train, variables = data_train.columns, maxlag=i))"
   ]
  },
  {
   "cell_type": "code",
   "execution_count": null,
   "id": "8155c429",
   "metadata": {},
   "outputs": [],
   "source": []
  },
  {
   "cell_type": "code",
   "execution_count": null,
   "id": "af98635d",
   "metadata": {},
   "outputs": [],
   "source": []
  },
  {
   "cell_type": "code",
   "execution_count": null,
   "id": "8b268b3d",
   "metadata": {},
   "outputs": [],
   "source": []
  },
  {
   "cell_type": "code",
   "execution_count": null,
   "id": "05b645f4",
   "metadata": {},
   "outputs": [],
   "source": []
  }
 ],
 "metadata": {
  "kernelspec": {
   "display_name": "Python 3",
   "language": "python",
   "name": "python3"
  },
  "language_info": {
   "codemirror_mode": {
    "name": "ipython",
    "version": 3
   },
   "file_extension": ".py",
   "mimetype": "text/x-python",
   "name": "python",
   "nbconvert_exporter": "python",
   "pygments_lexer": "ipython3",
   "version": "3.8.8"
  },
  "toc": {
   "base_numbering": 1,
   "nav_menu": {},
   "number_sections": true,
   "sideBar": true,
   "skip_h1_title": false,
   "title_cell": "Table of Contents",
   "title_sidebar": "Contents",
   "toc_cell": false,
   "toc_position": {},
   "toc_section_display": true,
   "toc_window_display": false
  }
 },
 "nbformat": 4,
 "nbformat_minor": 5
}
