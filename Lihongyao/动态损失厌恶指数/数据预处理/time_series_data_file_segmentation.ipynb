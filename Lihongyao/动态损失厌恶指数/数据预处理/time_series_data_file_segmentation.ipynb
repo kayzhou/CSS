{
 "cells": [
  {
   "cell_type": "code",
   "execution_count": null,
   "id": "f1ea06f4",
   "metadata": {},
   "outputs": [],
   "source": [
    "# 1.得到当前工作目录，即当前Python脚本工作的目录路径: os.getcwd()\n",
    "# 2.返回指定目录下的所有文件和目录名:os.listdir()\n",
    "# 3.函数用来删除一个文件:os.remove()\n",
    "# 4.删除多个目录：os.removedirs（r“c：\\python”）\n",
    "# 5.检验给出的路径是否是一个文件：os.path.isfile()\n",
    "# 6.检验给出的路径是否是一个目录：os.path.isdir()\n",
    "# 7.判断是否是绝对路径：os.path.isabs()\n",
    "# 8.检验给出的路径是否真地存:os.path.exists()\n",
    "# 9.返回一个路径的目录名和文件名:os.path.split()     \n",
    "#eg os.path.split('/home/swaroop/byte/code/poem.txt') 结果：('/home/swaroop/byte/code', 'poem.txt') \n",
    "# 10.分离扩展名：os.path.splitext()"
   ]
  },
  {
   "cell_type": "markdown",
   "id": "6e85fab3",
   "metadata": {},
   "source": [
    "w：以写方式打开，\n",
    "a：以追加模式打开 (从 EOF 开始, 必要时创建新文件)\n",
    "r+：以读写模式打开\n",
    "w+：以读写模式打开 (参见 w )\n",
    "a+：以读写模式打开 (参见 a )\n",
    "rb：以二进制读模式打开\n",
    "wb：以二进制写模式打开 (参见 w )\n",
    "ab：以二进制追加模式打开 (参见 a )\n",
    "rb+：以二进制读写模式打开 (参见 r+ )\n",
    "wb+：以二进制读写模式打开 (参见 w+ )\n",
    "ab+：以二进制读写模式打开 (参见 a+ )"
   ]
  },
  {
   "cell_type": "code",
   "execution_count": null,
   "id": "4154d76f",
   "metadata": {},
   "outputs": [],
   "source": [
    "fp.read([size])                     #size为读取的长度，以byte为单位\n",
    "fp.readline([size])                 #读一行，如果定义了size，有可能返回的只是一行的一部分\n",
    "fp.readlines([size])                #把文件每一行作为一个list的一个成员，并返回这个list。其实它的内部是通过循环调用readline()来实现的。如果提供size参数，size是表示读取内容的总长，也就是说可能只读到文件的一部分。\n",
    "fp.write(str)                       #把str写到文件中，write()并不会在str后加上一个换行符\n",
    "fp.writelines(seq)                  #把seq的内容全部写到文件中(多行一次性写入)。这个函数也只是忠实地写入，不会在每行后面加上任何东西。\n",
    "fp.close()                          #关闭文件。python会在一个文件不用后自动关闭文件，不过这一功能没有保证，最好还是养成自己关闭的习惯。  如果一个文件在关闭后还对其进行操作会产生ValueError\n",
    "fp.flush()                          #把缓冲区的内容写入硬盘\n",
    "fp.fileno()                         #返回一个长整型的”文件标签“\n",
    "fp.isatty()                         #文件是否是一个终端设备文件（unix系统中的）\n",
    "fp.tell()                           #返回文件操作标记的当前位置，以文件的开头为原点\n",
    "fp.next()                           #返回下一行，并将文件操作标记位移到下一行。把一个file用于for … in file这样的语句时，就是调用next()函数来实现遍历的。\n",
    "fp.seek(offset[,whence])            #将文件打操作标记移到offset的位置。这个offset一般是相对于文件的开头来计算的，一般为正数。但如果提供了whence参数就不一定了，whence可以为0表示从头开始计算，1表示以当前位置为原点计算。2表示以文件末尾为原点进行计算。需要注意，如果文件以a或a+的模式打开，每次进行写操作时，文件操作标记会自动返回到文件末尾。\n",
    "fp.truncate([size])                 #把文件裁成规定的大小，默认的是裁到当前文件操作标记的位置。如果size比文件的大小还要大，依据系统的不同可能是不改变文件，也可能是用0把文件补到相应的大小，也可能是以一些随机的内容加上去。"
   ]
  },
  {
   "cell_type": "code",
   "execution_count": 2,
   "id": "fc65dad2",
   "metadata": {},
   "outputs": [],
   "source": [
    "import os\n",
    "import pandas as pd"
   ]
  },
  {
   "cell_type": "code",
   "execution_count": 3,
   "id": "db0693e2",
   "metadata": {},
   "outputs": [],
   "source": [
    "file_list = [i for i in os.listdir() if 'csv' in i]"
   ]
  },
  {
   "cell_type": "code",
   "execution_count": 5,
   "id": "d1ec2359",
   "metadata": {},
   "outputs": [],
   "source": [
    "csv_list = [pd.read_csv(i) for i in file_list]"
   ]
  },
  {
   "cell_type": "code",
   "execution_count": 15,
   "id": "caaf75ba",
   "metadata": {},
   "outputs": [],
   "source": [
    "def get_file_name(file_list):\n",
    "    file_name_list = []\n",
    "    \n",
    "    for f in file_list:\n",
    "        index1 = f.find('_')\n",
    "        index2 = f.find('.')\n",
    "        \n",
    "        file_name = f[index1+1: index2]\n",
    "        file_name_list.append(file_name)\n",
    "    \n",
    "    print(file_name_list)\n",
    "    \n",
    "    return file_name_list"
   ]
  },
  {
   "cell_type": "code",
   "execution_count": 16,
   "id": "4d7afe8d",
   "metadata": {},
   "outputs": [
    {
     "name": "stdout",
     "output_type": "stream",
     "text": [
      "['A', 'B', 'C', 'D', 'day', 'E', 'F', 'G']\n"
     ]
    }
   ],
   "source": [
    "file_name_list = get_file_name(file_list)"
   ]
  },
  {
   "cell_type": "code",
   "execution_count": 22,
   "id": "9b475d22",
   "metadata": {},
   "outputs": [
    {
     "data": {
      "text/plain": [
       "['newVIP_A.csv',\n",
       " 'newVIP_B.csv',\n",
       " 'newVIP_C.csv',\n",
       " 'newVIP_D.csv',\n",
       " 'newVIP_day.csv',\n",
       " 'newVIP_E.csv',\n",
       " 'newVIP_F.csv',\n",
       " 'newVIP_G.csv']"
      ]
     },
     "execution_count": 22,
     "metadata": {},
     "output_type": "execute_result"
    }
   ],
   "source": [
    "file_list"
   ]
  },
  {
   "cell_type": "code",
   "execution_count": 17,
   "id": "15b1758e",
   "metadata": {},
   "outputs": [],
   "source": [
    "base_pth = os.getcwd()"
   ]
  },
  {
   "cell_type": "code",
   "execution_count": 18,
   "id": "e7511c17",
   "metadata": {},
   "outputs": [
    {
     "data": {
      "text/plain": [
       "'C:\\\\Users\\\\Lenovo\\\\yan\\\\D\\\\document'"
      ]
     },
     "execution_count": 18,
     "metadata": {},
     "output_type": "execute_result"
    }
   ],
   "source": [
    "base_pth"
   ]
  },
  {
   "cell_type": "code",
   "execution_count": 20,
   "id": "e6d7b779",
   "metadata": {},
   "outputs": [],
   "source": [
    "os.mkdir(os.path.join(base_pth, 'a'))"
   ]
  },
  {
   "cell_type": "code",
   "execution_count": 23,
   "id": "22f75bbf",
   "metadata": {},
   "outputs": [
    {
     "name": "stdout",
     "output_type": "stream",
     "text": [
      "C:\\Users\\Lenovo\\yan\\D\\document\\A\n",
      "文件已经存在\n",
      "C:\\Users\\Lenovo\\yan\\D\\document\\B\n",
      "文件已经存在\n",
      "C:\\Users\\Lenovo\\yan\\D\\document\\C\n",
      "文件已经存在\n",
      "C:\\Users\\Lenovo\\yan\\D\\document\\D\n",
      "文件已经存在\n",
      "C:\\Users\\Lenovo\\yan\\D\\document\\day\n",
      "文件已经存在\n",
      "C:\\Users\\Lenovo\\yan\\D\\document\\E\n",
      "文件已经存在\n",
      "C:\\Users\\Lenovo\\yan\\D\\document\\F\n",
      "文件已经存在\n",
      "C:\\Users\\Lenovo\\yan\\D\\document\\G\n",
      "文件已经存在\n"
     ]
    }
   ],
   "source": [
    "for file_name in file_name_list:\n",
    "    temp_pth = os.path.join(base_pth, file_name)\n",
    "    \n",
    "    print(temp_pth)\n",
    "    \n",
    "    if not os.path.exists(temp_pth):\n",
    "        os.mkdir(temp_pth)\n",
    "    else:\n",
    "        print('文件已经存在')"
   ]
  },
  {
   "cell_type": "code",
   "execution_count": 27,
   "id": "6c141282",
   "metadata": {},
   "outputs": [],
   "source": [
    "def split_file(file_name_list, csv_list):\n",
    "    for file_name, csv in zip(file_name_list, csv_list):\n",
    "        tmp_pth = os.path.join(base_pth, file_name)\n",
    "        os.chdir(tmp_pth)\n",
    "        \n",
    "        k = 0\n",
    "        n = 60\n",
    "        for i, b in enumerate([csv[i:i+n] for i in range(0,395,5)]):\n",
    "            b.to_csv(f'{file_name}_{i}.csv')\n",
    "            k += 1\n",
    "        \n",
    "        print(f'{file_name}文件夹切割完毕，总共产生了{k}个文件')\n",
    "        \n",
    "        os.chdir(base_pth)"
   ]
  },
  {
   "cell_type": "code",
   "execution_count": 28,
   "id": "91545c9e",
   "metadata": {},
   "outputs": [
    {
     "name": "stdout",
     "output_type": "stream",
     "text": [
      "A文件夹切割完毕，总共产生了79个文件\n",
      "B文件夹切割完毕，总共产生了79个文件\n",
      "C文件夹切割完毕，总共产生了79个文件\n",
      "D文件夹切割完毕，总共产生了79个文件\n",
      "day文件夹切割完毕，总共产生了79个文件\n",
      "E文件夹切割完毕，总共产生了79个文件\n",
      "F文件夹切割完毕，总共产生了79个文件\n",
      "G文件夹切割完毕，总共产生了79个文件\n"
     ]
    }
   ],
   "source": [
    "split_file(file_name_list, csv_list)"
   ]
  },
  {
   "cell_type": "code",
   "execution_count": null,
   "id": "97b2ac34",
   "metadata": {},
   "outputs": [],
   "source": []
  }
 ],
 "metadata": {
  "kernelspec": {
   "display_name": "Python 3",
   "language": "python",
   "name": "python3"
  },
  "language_info": {
   "codemirror_mode": {
    "name": "ipython",
    "version": 3
   },
   "file_extension": ".py",
   "mimetype": "text/x-python",
   "name": "python",
   "nbconvert_exporter": "python",
   "pygments_lexer": "ipython3",
   "version": "3.8.8"
  },
  "toc": {
   "base_numbering": 1,
   "nav_menu": {},
   "number_sections": true,
   "sideBar": true,
   "skip_h1_title": false,
   "title_cell": "Table of Contents",
   "title_sidebar": "Contents",
   "toc_cell": false,
   "toc_position": {},
   "toc_section_display": true,
   "toc_window_display": false
  }
 },
 "nbformat": 4,
 "nbformat_minor": 5
}
