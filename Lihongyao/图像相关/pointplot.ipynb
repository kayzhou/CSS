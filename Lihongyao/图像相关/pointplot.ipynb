{
 "cells": [
  {
   "cell_type": "code",
   "execution_count": 2,
   "id": "c8dbb03b",
   "metadata": {},
   "outputs": [],
   "source": [
    "import os\n",
    "import pandas as pd\n",
    "import numpy as np\n",
    "import matplotlib.pyplot as plt\n",
    "import seaborn as sns\n",
    "import statsmodels.api as sm\n",
    "import pylab\n",
    "from statsmodels.formula.api import ols\n",
    "from statsmodels.stats.anova import anova_lm\n",
    "from statsmodels.stats.multicomp import pairwise_tukeyhsd\n",
    "from scipy import stats\n",
    "%matplotlib inline"
   ]
  },
  {
   "cell_type": "code",
   "execution_count": 14,
   "id": "622f38ac",
   "metadata": {},
   "outputs": [
    {
     "data": {
      "text/html": [
       "<div>\n",
       "<style scoped>\n",
       "    .dataframe tbody tr th:only-of-type {\n",
       "        vertical-align: middle;\n",
       "    }\n",
       "\n",
       "    .dataframe tbody tr th {\n",
       "        vertical-align: top;\n",
       "    }\n",
       "\n",
       "    .dataframe thead th {\n",
       "        text-align: right;\n",
       "    }\n",
       "</style>\n",
       "<table border=\"1\" class=\"dataframe\">\n",
       "  <thead>\n",
       "    <tr style=\"text-align: right;\">\n",
       "      <th></th>\n",
       "      <th>Date</th>\n",
       "      <th>open</th>\n",
       "      <th>high</th>\n",
       "      <th>low</th>\n",
       "      <th>close</th>\n",
       "      <th>volume</th>\n",
       "      <th>sub_density</th>\n",
       "      <th>diameter</th>\n",
       "      <th>average_shortest_path_length</th>\n",
       "      <th>average_clustering</th>\n",
       "      <th>...</th>\n",
       "      <th>number_of_nodes</th>\n",
       "      <th>number_of_nodes_for_largest_subgraph</th>\n",
       "      <th>number_of_edges_for_largest_subgraph</th>\n",
       "      <th>average_degree</th>\n",
       "      <th>average_degree_sub</th>\n",
       "      <th>bins</th>\n",
       "      <th>pr</th>\n",
       "      <th>pagerank</th>\n",
       "      <th>ci</th>\n",
       "      <th>ci_sum</th>\n",
       "    </tr>\n",
       "  </thead>\n",
       "  <tbody>\n",
       "    <tr>\n",
       "      <th>0</th>\n",
       "      <td>2014/12/2</td>\n",
       "      <td>-0.4820</td>\n",
       "      <td>3.6047</td>\n",
       "      <td>-0.5616</td>\n",
       "      <td>3.08</td>\n",
       "      <td>437700</td>\n",
       "      <td>0.001718</td>\n",
       "      <td>17</td>\n",
       "      <td>7.113971</td>\n",
       "      <td>0.002588</td>\n",
       "      <td>...</td>\n",
       "      <td>2709</td>\n",
       "      <td>1269</td>\n",
       "      <td>1382</td>\n",
       "      <td>1.809524</td>\n",
       "      <td>2.178093</td>\n",
       "      <td>(1.4, 4.2]</td>\n",
       "      <td>0.030927</td>\n",
       "      <td>0.030927</td>\n",
       "      <td>15225</td>\n",
       "      <td>64672</td>\n",
       "    </tr>\n",
       "    <tr>\n",
       "      <th>1</th>\n",
       "      <td>2014/12/3</td>\n",
       "      <td>0.1940</td>\n",
       "      <td>2.2025</td>\n",
       "      <td>-1.0657</td>\n",
       "      <td>0.59</td>\n",
       "      <td>562100</td>\n",
       "      <td>0.005051</td>\n",
       "      <td>2</td>\n",
       "      <td>1.994962</td>\n",
       "      <td>0.000000</td>\n",
       "      <td>...</td>\n",
       "      <td>3517</td>\n",
       "      <td>397</td>\n",
       "      <td>397</td>\n",
       "      <td>1.839067</td>\n",
       "      <td>2.000000</td>\n",
       "      <td>(0.0, 1.4]</td>\n",
       "      <td>0.460111</td>\n",
       "      <td>0.460111</td>\n",
       "      <td>20002</td>\n",
       "      <td>90681</td>\n",
       "    </tr>\n",
       "    <tr>\n",
       "      <th>2</th>\n",
       "      <td>2014/12/4</td>\n",
       "      <td>0.1343</td>\n",
       "      <td>4.3447</td>\n",
       "      <td>-0.2628</td>\n",
       "      <td>4.34</td>\n",
       "      <td>532700</td>\n",
       "      <td>0.000493</td>\n",
       "      <td>17</td>\n",
       "      <td>5.356456</td>\n",
       "      <td>0.005365</td>\n",
       "      <td>...</td>\n",
       "      <td>6806</td>\n",
       "      <td>4483</td>\n",
       "      <td>4954</td>\n",
       "      <td>1.988833</td>\n",
       "      <td>2.210127</td>\n",
       "      <td>(4.2, 10.0]</td>\n",
       "      <td>0.038970</td>\n",
       "      <td>0.038970</td>\n",
       "      <td>1040588</td>\n",
       "      <td>3545908</td>\n",
       "    </tr>\n",
       "    <tr>\n",
       "      <th>3</th>\n",
       "      <td>2014/12/5</td>\n",
       "      <td>0.9037</td>\n",
       "      <td>2.6778</td>\n",
       "      <td>-3.0103</td>\n",
       "      <td>1.32</td>\n",
       "      <td>640500</td>\n",
       "      <td>0.000616</td>\n",
       "      <td>16</td>\n",
       "      <td>5.836187</td>\n",
       "      <td>0.004919</td>\n",
       "      <td>...</td>\n",
       "      <td>5870</td>\n",
       "      <td>3578</td>\n",
       "      <td>3945</td>\n",
       "      <td>1.933220</td>\n",
       "      <td>2.205143</td>\n",
       "      <td>(0.0, 1.4]</td>\n",
       "      <td>0.024525</td>\n",
       "      <td>0.024525</td>\n",
       "      <td>336622</td>\n",
       "      <td>1333848</td>\n",
       "    </tr>\n",
       "    <tr>\n",
       "      <th>4</th>\n",
       "      <td>2014/12/8</td>\n",
       "      <td>-1.0537</td>\n",
       "      <td>3.5006</td>\n",
       "      <td>-2.0054</td>\n",
       "      <td>2.82</td>\n",
       "      <td>587600</td>\n",
       "      <td>0.000964</td>\n",
       "      <td>19</td>\n",
       "      <td>6.281437</td>\n",
       "      <td>0.002962</td>\n",
       "      <td>...</td>\n",
       "      <td>4185</td>\n",
       "      <td>2310</td>\n",
       "      <td>2570</td>\n",
       "      <td>1.889128</td>\n",
       "      <td>2.225108</td>\n",
       "      <td>(1.4, 4.2]</td>\n",
       "      <td>0.026345</td>\n",
       "      <td>0.026345</td>\n",
       "      <td>89760</td>\n",
       "      <td>387569</td>\n",
       "    </tr>\n",
       "  </tbody>\n",
       "</table>\n",
       "<p>5 rows × 23 columns</p>\n",
       "</div>"
      ],
      "text/plain": [
       "        Date    open    high     low  close  volume  sub_density  diameter  \\\n",
       "0  2014/12/2 -0.4820  3.6047 -0.5616   3.08  437700     0.001718        17   \n",
       "1  2014/12/3  0.1940  2.2025 -1.0657   0.59  562100     0.005051         2   \n",
       "2  2014/12/4  0.1343  4.3447 -0.2628   4.34  532700     0.000493        17   \n",
       "3  2014/12/5  0.9037  2.6778 -3.0103   1.32  640500     0.000616        16   \n",
       "4  2014/12/8 -1.0537  3.5006 -2.0054   2.82  587600     0.000964        19   \n",
       "\n",
       "   average_shortest_path_length  average_clustering  ...  number_of_nodes  \\\n",
       "0                      7.113971            0.002588  ...             2709   \n",
       "1                      1.994962            0.000000  ...             3517   \n",
       "2                      5.356456            0.005365  ...             6806   \n",
       "3                      5.836187            0.004919  ...             5870   \n",
       "4                      6.281437            0.002962  ...             4185   \n",
       "\n",
       "   number_of_nodes_for_largest_subgraph  number_of_edges_for_largest_subgraph  \\\n",
       "0                                  1269                                  1382   \n",
       "1                                   397                                   397   \n",
       "2                                  4483                                  4954   \n",
       "3                                  3578                                  3945   \n",
       "4                                  2310                                  2570   \n",
       "\n",
       "   average_degree  average_degree_sub         bins        pr  pagerank  \\\n",
       "0        1.809524            2.178093   (1.4, 4.2]  0.030927  0.030927   \n",
       "1        1.839067            2.000000   (0.0, 1.4]  0.460111  0.460111   \n",
       "2        1.988833            2.210127  (4.2, 10.0]  0.038970  0.038970   \n",
       "3        1.933220            2.205143   (0.0, 1.4]  0.024525  0.024525   \n",
       "4        1.889128            2.225108   (1.4, 4.2]  0.026345  0.026345   \n",
       "\n",
       "        ci   ci_sum  \n",
       "0    15225    64672  \n",
       "1    20002    90681  \n",
       "2  1040588  3545908  \n",
       "3   336622  1333848  \n",
       "4    89760   387569  \n",
       "\n",
       "[5 rows x 23 columns]"
      ]
     },
     "execution_count": 14,
     "metadata": {},
     "output_type": "execute_result"
    }
   ],
   "source": [
    "olhc_6 = pd.read_csv('olhc_6.csv')\n",
    "olhc_6.head()"
   ]
  },
  {
   "cell_type": "code",
   "execution_count": 3,
   "id": "498f5b7d",
   "metadata": {},
   "outputs": [
    {
     "data": {
      "text/html": [
       "<div>\n",
       "<style scoped>\n",
       "    .dataframe tbody tr th:only-of-type {\n",
       "        vertical-align: middle;\n",
       "    }\n",
       "\n",
       "    .dataframe tbody tr th {\n",
       "        vertical-align: top;\n",
       "    }\n",
       "\n",
       "    .dataframe thead th {\n",
       "        text-align: right;\n",
       "    }\n",
       "</style>\n",
       "<table border=\"1\" class=\"dataframe\">\n",
       "  <thead>\n",
       "    <tr style=\"text-align: right;\">\n",
       "      <th></th>\n",
       "      <th>Unnamed: 0</th>\n",
       "      <th>date</th>\n",
       "      <th>open</th>\n",
       "      <th>high</th>\n",
       "      <th>low</th>\n",
       "      <th>close</th>\n",
       "      <th>volume</th>\n",
       "      <th>anger</th>\n",
       "      <th>disgust</th>\n",
       "      <th>joy</th>\n",
       "      <th>sadness</th>\n",
       "      <th>fear</th>\n",
       "      <th>su</th>\n",
       "      <th>bins</th>\n",
       "      <th>DAJ</th>\n",
       "      <th>DDJ</th>\n",
       "      <th>DSJ</th>\n",
       "      <th>DFJ</th>\n",
       "      <th>DNP</th>\n",
       "    </tr>\n",
       "  </thead>\n",
       "  <tbody>\n",
       "    <tr>\n",
       "      <th>0</th>\n",
       "      <td>0</td>\n",
       "      <td>2014/12/2</td>\n",
       "      <td>-0.4820</td>\n",
       "      <td>3.6047</td>\n",
       "      <td>-0.5616</td>\n",
       "      <td>3.08</td>\n",
       "      <td>437700</td>\n",
       "      <td>3151</td>\n",
       "      <td>4059</td>\n",
       "      <td>6675</td>\n",
       "      <td>1045</td>\n",
       "      <td>6092</td>\n",
       "      <td>21732</td>\n",
       "      <td>(1.4, 4.2]</td>\n",
       "      <td>-0.326003</td>\n",
       "      <td>-0.216032</td>\n",
       "      <td>-0.805335</td>\n",
       "      <td>-0.039691</td>\n",
       "      <td>0.353287</td>\n",
       "    </tr>\n",
       "    <tr>\n",
       "      <th>1</th>\n",
       "      <td>1</td>\n",
       "      <td>2014/12/3</td>\n",
       "      <td>0.1940</td>\n",
       "      <td>2.2025</td>\n",
       "      <td>-1.0657</td>\n",
       "      <td>0.59</td>\n",
       "      <td>562100</td>\n",
       "      <td>3823</td>\n",
       "      <td>4633</td>\n",
       "      <td>9353</td>\n",
       "      <td>1435</td>\n",
       "      <td>7412</td>\n",
       "      <td>27462</td>\n",
       "      <td>(0.0, 1.4]</td>\n",
       "      <td>-0.388547</td>\n",
       "      <td>-0.305089</td>\n",
       "      <td>-0.814099</td>\n",
       "      <td>-0.101016</td>\n",
       "      <td>0.286944</td>\n",
       "    </tr>\n",
       "    <tr>\n",
       "      <th>2</th>\n",
       "      <td>2</td>\n",
       "      <td>2014/12/4</td>\n",
       "      <td>0.1343</td>\n",
       "      <td>4.3447</td>\n",
       "      <td>-0.2628</td>\n",
       "      <td>4.34</td>\n",
       "      <td>532700</td>\n",
       "      <td>5060</td>\n",
       "      <td>7280</td>\n",
       "      <td>12161</td>\n",
       "      <td>2836</td>\n",
       "      <td>10107</td>\n",
       "      <td>39274</td>\n",
       "      <td>(4.2, 10.0]</td>\n",
       "      <td>-0.380819</td>\n",
       "      <td>-0.222838</td>\n",
       "      <td>-0.632263</td>\n",
       "      <td>-0.080347</td>\n",
       "      <td>0.348208</td>\n",
       "    </tr>\n",
       "    <tr>\n",
       "      <th>3</th>\n",
       "      <td>3</td>\n",
       "      <td>2014/12/5</td>\n",
       "      <td>0.9037</td>\n",
       "      <td>2.6778</td>\n",
       "      <td>-3.0103</td>\n",
       "      <td>1.32</td>\n",
       "      <td>640500</td>\n",
       "      <td>4453</td>\n",
       "      <td>7438</td>\n",
       "      <td>11557</td>\n",
       "      <td>2443</td>\n",
       "      <td>10114</td>\n",
       "      <td>37434</td>\n",
       "      <td>(0.0, 1.4]</td>\n",
       "      <td>-0.414192</td>\n",
       "      <td>-0.191389</td>\n",
       "      <td>-0.674922</td>\n",
       "      <td>-0.057922</td>\n",
       "      <td>0.350069</td>\n",
       "    </tr>\n",
       "    <tr>\n",
       "      <th>4</th>\n",
       "      <td>4</td>\n",
       "      <td>2014/12/8</td>\n",
       "      <td>-1.0537</td>\n",
       "      <td>3.5006</td>\n",
       "      <td>-2.0054</td>\n",
       "      <td>2.82</td>\n",
       "      <td>587600</td>\n",
       "      <td>3965</td>\n",
       "      <td>5384</td>\n",
       "      <td>8904</td>\n",
       "      <td>1496</td>\n",
       "      <td>9066</td>\n",
       "      <td>29860</td>\n",
       "      <td>(1.4, 4.2]</td>\n",
       "      <td>-0.351342</td>\n",
       "      <td>-0.218480</td>\n",
       "      <td>-0.774654</td>\n",
       "      <td>0.007831</td>\n",
       "      <td>0.371723</td>\n",
       "    </tr>\n",
       "  </tbody>\n",
       "</table>\n",
       "</div>"
      ],
      "text/plain": [
       "   Unnamed: 0       date    open    high     low  close  volume  anger  \\\n",
       "0           0  2014/12/2 -0.4820  3.6047 -0.5616   3.08  437700   3151   \n",
       "1           1  2014/12/3  0.1940  2.2025 -1.0657   0.59  562100   3823   \n",
       "2           2  2014/12/4  0.1343  4.3447 -0.2628   4.34  532700   5060   \n",
       "3           3  2014/12/5  0.9037  2.6778 -3.0103   1.32  640500   4453   \n",
       "4           4  2014/12/8 -1.0537  3.5006 -2.0054   2.82  587600   3965   \n",
       "\n",
       "   disgust    joy  sadness   fear     su         bins       DAJ       DDJ  \\\n",
       "0     4059   6675     1045   6092  21732   (1.4, 4.2] -0.326003 -0.216032   \n",
       "1     4633   9353     1435   7412  27462   (0.0, 1.4] -0.388547 -0.305089   \n",
       "2     7280  12161     2836  10107  39274  (4.2, 10.0] -0.380819 -0.222838   \n",
       "3     7438  11557     2443  10114  37434   (0.0, 1.4] -0.414192 -0.191389   \n",
       "4     5384   8904     1496   9066  29860   (1.4, 4.2] -0.351342 -0.218480   \n",
       "\n",
       "        DSJ       DFJ       DNP  \n",
       "0 -0.805335 -0.039691  0.353287  \n",
       "1 -0.814099 -0.101016  0.286944  \n",
       "2 -0.632263 -0.080347  0.348208  \n",
       "3 -0.674922 -0.057922  0.350069  \n",
       "4 -0.774654  0.007831  0.371723  "
      ]
     },
     "execution_count": 3,
     "metadata": {},
     "output_type": "execute_result"
    }
   ],
   "source": [
    "hddf = pd.read_csv('C:/Users/Lenovo/yan/D/数据/hddf.csv')\n",
    "hddf.head()"
   ]
  },
  {
   "cell_type": "code",
   "execution_count": 3,
   "id": "07620302",
   "metadata": {},
   "outputs": [
    {
     "data": {
      "text/html": [
       "<div>\n",
       "<style scoped>\n",
       "    .dataframe tbody tr th:only-of-type {\n",
       "        vertical-align: middle;\n",
       "    }\n",
       "\n",
       "    .dataframe tbody tr th {\n",
       "        vertical-align: top;\n",
       "    }\n",
       "\n",
       "    .dataframe thead th {\n",
       "        text-align: right;\n",
       "    }\n",
       "</style>\n",
       "<table border=\"1\" class=\"dataframe\">\n",
       "  <thead>\n",
       "    <tr style=\"text-align: right;\">\n",
       "      <th></th>\n",
       "      <th>Date</th>\n",
       "      <th>open</th>\n",
       "      <th>high</th>\n",
       "      <th>low</th>\n",
       "      <th>close</th>\n",
       "      <th>volume</th>\n",
       "      <th>Network diameter</th>\n",
       "      <th>The average shortest path length of the network</th>\n",
       "      <th>The average clustering coefficient of the network</th>\n",
       "      <th>The average degree centrality of the network</th>\n",
       "      <th>Number of network nodes</th>\n",
       "      <th>number_of_nodes_for_largest_subgraph</th>\n",
       "      <th>The average degree of the network</th>\n",
       "      <th>bins</th>\n",
       "      <th>pagerank</th>\n",
       "      <th>ci_max</th>\n",
       "      <th>ci_global</th>\n",
       "      <th>retweeted</th>\n",
       "      <th>su</th>\n",
       "      <th>original</th>\n",
       "    </tr>\n",
       "  </thead>\n",
       "  <tbody>\n",
       "    <tr>\n",
       "      <th>0</th>\n",
       "      <td>2014/12/2</td>\n",
       "      <td>-0.4820</td>\n",
       "      <td>3.6047</td>\n",
       "      <td>-0.5616</td>\n",
       "      <td>3.08</td>\n",
       "      <td>437700</td>\n",
       "      <td>17</td>\n",
       "      <td>7.113971</td>\n",
       "      <td>0.002588</td>\n",
       "      <td>0.001718</td>\n",
       "      <td>2709</td>\n",
       "      <td>1269</td>\n",
       "      <td>1.809524</td>\n",
       "      <td>(1.4, 4.2]</td>\n",
       "      <td>0.030927</td>\n",
       "      <td>15225</td>\n",
       "      <td>64672</td>\n",
       "      <td>2808</td>\n",
       "      <td>21732</td>\n",
       "      <td>18924</td>\n",
       "    </tr>\n",
       "    <tr>\n",
       "      <th>1</th>\n",
       "      <td>2014/12/3</td>\n",
       "      <td>0.1940</td>\n",
       "      <td>2.2025</td>\n",
       "      <td>-1.0657</td>\n",
       "      <td>0.59</td>\n",
       "      <td>562100</td>\n",
       "      <td>2</td>\n",
       "      <td>1.994962</td>\n",
       "      <td>0.000000</td>\n",
       "      <td>0.005051</td>\n",
       "      <td>3517</td>\n",
       "      <td>397</td>\n",
       "      <td>1.839067</td>\n",
       "      <td>(0.0, 1.4]</td>\n",
       "      <td>0.460111</td>\n",
       "      <td>20002</td>\n",
       "      <td>90681</td>\n",
       "      <td>3782</td>\n",
       "      <td>27462</td>\n",
       "      <td>23680</td>\n",
       "    </tr>\n",
       "    <tr>\n",
       "      <th>2</th>\n",
       "      <td>2014/12/4</td>\n",
       "      <td>0.1343</td>\n",
       "      <td>4.3447</td>\n",
       "      <td>-0.2628</td>\n",
       "      <td>4.34</td>\n",
       "      <td>532700</td>\n",
       "      <td>17</td>\n",
       "      <td>5.356456</td>\n",
       "      <td>0.005365</td>\n",
       "      <td>0.000493</td>\n",
       "      <td>6806</td>\n",
       "      <td>4483</td>\n",
       "      <td>1.988833</td>\n",
       "      <td>(4.2, 10.0]</td>\n",
       "      <td>0.038970</td>\n",
       "      <td>1040588</td>\n",
       "      <td>3545908</td>\n",
       "      <td>7932</td>\n",
       "      <td>39274</td>\n",
       "      <td>31342</td>\n",
       "    </tr>\n",
       "    <tr>\n",
       "      <th>3</th>\n",
       "      <td>2014/12/5</td>\n",
       "      <td>0.9037</td>\n",
       "      <td>2.6778</td>\n",
       "      <td>-3.0103</td>\n",
       "      <td>1.32</td>\n",
       "      <td>640500</td>\n",
       "      <td>16</td>\n",
       "      <td>5.836187</td>\n",
       "      <td>0.004919</td>\n",
       "      <td>0.000616</td>\n",
       "      <td>5870</td>\n",
       "      <td>3578</td>\n",
       "      <td>1.933220</td>\n",
       "      <td>(0.0, 1.4]</td>\n",
       "      <td>0.024525</td>\n",
       "      <td>336622</td>\n",
       "      <td>1333848</td>\n",
       "      <td>6567</td>\n",
       "      <td>37434</td>\n",
       "      <td>30867</td>\n",
       "    </tr>\n",
       "    <tr>\n",
       "      <th>4</th>\n",
       "      <td>2014/12/8</td>\n",
       "      <td>-1.0537</td>\n",
       "      <td>3.5006</td>\n",
       "      <td>-2.0054</td>\n",
       "      <td>2.82</td>\n",
       "      <td>587600</td>\n",
       "      <td>19</td>\n",
       "      <td>6.281437</td>\n",
       "      <td>0.002962</td>\n",
       "      <td>0.000964</td>\n",
       "      <td>4185</td>\n",
       "      <td>2310</td>\n",
       "      <td>1.889128</td>\n",
       "      <td>(1.4, 4.2]</td>\n",
       "      <td>0.026345</td>\n",
       "      <td>89760</td>\n",
       "      <td>387569</td>\n",
       "      <td>4630</td>\n",
       "      <td>29860</td>\n",
       "      <td>25230</td>\n",
       "    </tr>\n",
       "  </tbody>\n",
       "</table>\n",
       "</div>"
      ],
      "text/plain": [
       "        Date    open    high     low  close  volume  Network diameter  \\\n",
       "0  2014/12/2 -0.4820  3.6047 -0.5616   3.08  437700                17   \n",
       "1  2014/12/3  0.1940  2.2025 -1.0657   0.59  562100                 2   \n",
       "2  2014/12/4  0.1343  4.3447 -0.2628   4.34  532700                17   \n",
       "3  2014/12/5  0.9037  2.6778 -3.0103   1.32  640500                16   \n",
       "4  2014/12/8 -1.0537  3.5006 -2.0054   2.82  587600                19   \n",
       "\n",
       "   The average shortest path length of the network  \\\n",
       "0                                         7.113971   \n",
       "1                                         1.994962   \n",
       "2                                         5.356456   \n",
       "3                                         5.836187   \n",
       "4                                         6.281437   \n",
       "\n",
       "   The average clustering coefficient of the network  \\\n",
       "0                                           0.002588   \n",
       "1                                           0.000000   \n",
       "2                                           0.005365   \n",
       "3                                           0.004919   \n",
       "4                                           0.002962   \n",
       "\n",
       "   The average degree centrality of the network  Number of network nodes  \\\n",
       "0                                      0.001718                     2709   \n",
       "1                                      0.005051                     3517   \n",
       "2                                      0.000493                     6806   \n",
       "3                                      0.000616                     5870   \n",
       "4                                      0.000964                     4185   \n",
       "\n",
       "   number_of_nodes_for_largest_subgraph  The average degree of the network  \\\n",
       "0                                  1269                           1.809524   \n",
       "1                                   397                           1.839067   \n",
       "2                                  4483                           1.988833   \n",
       "3                                  3578                           1.933220   \n",
       "4                                  2310                           1.889128   \n",
       "\n",
       "          bins  pagerank   ci_max  ci_global  retweeted     su  original  \n",
       "0   (1.4, 4.2]  0.030927    15225      64672       2808  21732     18924  \n",
       "1   (0.0, 1.4]  0.460111    20002      90681       3782  27462     23680  \n",
       "2  (4.2, 10.0]  0.038970  1040588    3545908       7932  39274     31342  \n",
       "3   (0.0, 1.4]  0.024525   336622    1333848       6567  37434     30867  \n",
       "4   (1.4, 4.2]  0.026345    89760     387569       4630  29860     25230  "
      ]
     },
     "execution_count": 3,
     "metadata": {},
     "output_type": "execute_result"
    }
   ],
   "source": [
    "olhc_n = pd.read_csv('/Users/Kay/论文/2023-Loss Aversion/李洪瑶/社交网络/olhc_n.csv')\n",
    "olhc_n.head()"
   ]
  },
  {
   "cell_type": "code",
   "execution_count": 25,
   "id": "4061be9d",
   "metadata": {},
   "outputs": [
    {
     "data": {
      "text/plain": [
       "count    3576.000000\n",
       "mean        0.030898\n",
       "std         1.674599\n",
       "min        -8.840626\n",
       "25%        -0.738919\n",
       "50%         0.060365\n",
       "75%         0.848390\n",
       "max         9.455138\n",
       "Name: close, dtype: float64"
      ]
     },
     "execution_count": 25,
     "metadata": {},
     "output_type": "execute_result"
    }
   ],
   "source": [
    "change_2002 = pd.read_csv('C:/Users/Lenovo/yan/D/数据/2002.csv')\n",
    "change_2002['close'].describe()"
   ]
  },
  {
   "cell_type": "code",
   "execution_count": 68,
   "id": "8a6f648c",
   "metadata": {},
   "outputs": [
    {
     "data": {
      "text/plain": [
       "count    3504.000000\n",
       "mean        0.038437\n",
       "std         1.427449\n",
       "min        -5.248541\n",
       "25%        -0.724368\n",
       "50%         0.060365\n",
       "75%         0.831589\n",
       "max         4.314802\n",
       "Name: new, dtype: float64"
      ]
     },
     "execution_count": 68,
     "metadata": {},
     "output_type": "execute_result"
    }
   ],
   "source": [
    "from scipy import stats\n",
    "qt = stats.scoreatpercentile(change_2002[\"close\"],[1,99])\n",
    "change_2002['new'] = change_2002['close'][(change_2002['close']>qt[0])&(change_2002['close']<qt[1])]\n",
    "change_2002['new'].describe()"
   ]
  },
  {
   "cell_type": "markdown",
   "id": "91d9a555",
   "metadata": {},
   "source": [
    "# 分组"
   ]
  },
  {
   "cell_type": "code",
   "execution_count": 4,
   "id": "67b49bd3",
   "metadata": {},
   "outputs": [],
   "source": [
    "bins = [-10,-4.2,-1.4,0,1.4,4.2,10]"
   ]
  },
  {
   "cell_type": "code",
   "execution_count": 5,
   "id": "94444626",
   "metadata": {
    "scrolled": false
   },
   "outputs": [
    {
     "ename": "NameError",
     "evalue": "name 'olhc_6' is not defined",
     "output_type": "error",
     "traceback": [
      "\u001b[0;31m---------------------------------------------------------------------------\u001b[0m",
      "\u001b[0;31mNameError\u001b[0m                                 Traceback (most recent call last)",
      "\u001b[1;32m/Users/Kay/论文/2023-Loss Aversion/李洪瑶/图像相关/pointplot.ipynb 单元格 9\u001b[0m line \u001b[0;36m1\n\u001b[0;32m----> <a href='vscode-notebook-cell:/Users/Kay/%E8%AE%BA%E6%96%87/2023-Loss%20Aversion/%E6%9D%8E%E6%B4%AA%E7%91%B6/%E5%9B%BE%E5%83%8F%E7%9B%B8%E5%85%B3/pointplot.ipynb#X11sZmlsZQ%3D%3D?line=0'>1</a>\u001b[0m olhc_6[\u001b[39m'\u001b[39m\u001b[39mbins\u001b[39m\u001b[39m'\u001b[39m] \u001b[39m=\u001b[39m pd\u001b[39m.\u001b[39mcut(olhc_6[\u001b[39m'\u001b[39m\u001b[39mclose\u001b[39m\u001b[39m'\u001b[39m], bins)\n\u001b[1;32m      <a href='vscode-notebook-cell:/Users/Kay/%E8%AE%BA%E6%96%87/2023-Loss%20Aversion/%E6%9D%8E%E6%B4%AA%E7%91%B6/%E5%9B%BE%E5%83%8F%E7%9B%B8%E5%85%B3/pointplot.ipynb#X11sZmlsZQ%3D%3D?line=1'>2</a>\u001b[0m df_bins \u001b[39m=\u001b[39m olhc_6[\u001b[39m'\u001b[39m\u001b[39mbins\u001b[39m\u001b[39m'\u001b[39m]\u001b[39m.\u001b[39mvalue_counts()\u001b[39m.\u001b[39mto_frame()\n\u001b[1;32m      <a href='vscode-notebook-cell:/Users/Kay/%E8%AE%BA%E6%96%87/2023-Loss%20Aversion/%E6%9D%8E%E6%B4%AA%E7%91%B6/%E5%9B%BE%E5%83%8F%E7%9B%B8%E5%85%B3/pointplot.ipynb#X11sZmlsZQ%3D%3D?line=2'>3</a>\u001b[0m df_bins\u001b[39m.\u001b[39mindex\u001b[39m.\u001b[39mnames \u001b[39m=\u001b[39m [\u001b[39m'\u001b[39m\u001b[39mBins\u001b[39m\u001b[39m'\u001b[39m]\n",
      "\u001b[0;31mNameError\u001b[0m: name 'olhc_6' is not defined"
     ]
    }
   ],
   "source": [
    "olhc_6['bins'] = pd.cut(olhc_6['close'], bins)\n",
    "df_bins = olhc_6['bins'].value_counts().to_frame()\n",
    "df_bins.index.names = ['Bins']\n",
    "df_bins.sort_index(ascending=True, inplace=True)\n",
    "#df_bins.to_csv('df_bins.csv')\n",
    "df_bins"
   ]
  },
  {
   "cell_type": "code",
   "execution_count": 21,
   "id": "d0ae3f5d",
   "metadata": {
    "scrolled": true
   },
   "outputs": [
    {
     "data": {
      "text/html": [
       "<svg  width=\"385\" height=\"55\"><rect x=\"0\" y=\"0\" width=\"55\" height=\"55\" style=\"fill:#f3f0f0;stroke-width:2;stroke:rgb(255,255,255)\"/><rect x=\"55\" y=\"0\" width=\"55\" height=\"55\" style=\"fill:#f5c8c8;stroke-width:2;stroke:rgb(255,255,255)\"/><rect x=\"110\" y=\"0\" width=\"55\" height=\"55\" style=\"fill:#f7a0a0;stroke-width:2;stroke:rgb(255,255,255)\"/><rect x=\"165\" y=\"0\" width=\"55\" height=\"55\" style=\"fill:#f97878;stroke-width:2;stroke:rgb(255,255,255)\"/><rect x=\"220\" y=\"0\" width=\"55\" height=\"55\" style=\"fill:#fb5050;stroke-width:2;stroke:rgb(255,255,255)\"/><rect x=\"275\" y=\"0\" width=\"55\" height=\"55\" style=\"fill:#fd2828;stroke-width:2;stroke:rgb(255,255,255)\"/><rect x=\"330\" y=\"0\" width=\"55\" height=\"55\" style=\"fill:#ff0000;stroke-width:2;stroke:rgb(255,255,255)\"/></svg>"
      ],
      "text/plain": [
       "[(0.9522635075378764, 0.9411073728435433, 0.940983659029102),\n",
       " (0.960125988649285, 0.7861014526104891, 0.7859981151890145),\n",
       " (0.9681756716919175, 0.6274049152290289, 0.6273224393527347),\n",
       " (0.9762253547345502, 0.46870837784756864, 0.46864676351645473),\n",
       " (0.9840878358459588, 0.31370245761451443, 0.3136612196763674),\n",
       " (0.9921375188885914, 0.15500592023305415, 0.15498554384008734),\n",
       " (1.0, 0.0, 0.0)]"
      ]
     },
     "execution_count": 21,
     "metadata": {},
     "output_type": "execute_result"
    }
   ],
   "source": [
    "ira_c = sns.light_palette(\"red\", 7)\n",
    "all_c = sns.light_palette(\"green\", 7)\n",
    "ira_c"
   ]
  },
  {
   "cell_type": "code",
   "execution_count": 20,
   "id": "ba9fa58c",
   "metadata": {
    "scrolled": true
   },
   "outputs": [
    {
     "data": {
      "text/html": [
       "<svg  width=\"385\" height=\"55\"><rect x=\"0\" y=\"0\" width=\"55\" height=\"55\" style=\"fill:#ebf3eb;stroke-width:2;stroke:rgb(255,255,255)\"/><rect x=\"55\" y=\"0\" width=\"55\" height=\"55\" style=\"fill:#c4e0c4;stroke-width:2;stroke:rgb(255,255,255)\"/><rect x=\"110\" y=\"0\" width=\"55\" height=\"55\" style=\"fill:#9ccd9c;stroke-width:2;stroke:rgb(255,255,255)\"/><rect x=\"165\" y=\"0\" width=\"55\" height=\"55\" style=\"fill:#75b975;stroke-width:2;stroke:rgb(255,255,255)\"/><rect x=\"220\" y=\"0\" width=\"55\" height=\"55\" style=\"fill:#4ea64e;stroke-width:2;stroke:rgb(255,255,255)\"/><rect x=\"275\" y=\"0\" width=\"55\" height=\"55\" style=\"fill:#279327;stroke-width:2;stroke:rgb(255,255,255)\"/><rect x=\"330\" y=\"0\" width=\"55\" height=\"55\" style=\"fill:#008000;stroke-width:2;stroke:rgb(255,255,255)\"/></svg>"
      ],
      "text/plain": [
       "[(0.9197652656492237, 0.9527224554855785, 0.9196755184291893),\n",
       " (0.768274516012881, 0.8784793567043322, 0.768199550687911),\n",
       " (0.6131768437661491, 0.8024685650949609, 0.6131170122861263),\n",
       " (0.4580791715194173, 0.7264577734855896, 0.4580344738843413),\n",
       " (0.30658842188307456, 0.6522146747043431, 0.3065585061430631),\n",
       " (0.15149074963634268, 0.5762038830949718, 0.15147596774127825),\n",
       " (0.0, 0.5019607843137255, 0.0)]"
      ]
     },
     "execution_count": 20,
     "metadata": {},
     "output_type": "execute_result"
    }
   ],
   "source": [
    "all_c"
   ]
  },
  {
   "cell_type": "code",
   "execution_count": 8,
   "id": "ecc35a31",
   "metadata": {},
   "outputs": [],
   "source": [
    "var = ['$Diameter$', \n",
    "       '$L_{s}$',\n",
    "       'The average degree centrality of the network',\n",
    "       '$N$',\n",
    "       '$d_{avg}$',\n",
    "       'The average degree of the largest subgraph',\n",
    "       'network density of the largest subgraph',\n",
    "       'ci_max',\n",
    "       '$CI_{top}$']"
   ]
  },
  {
   "cell_type": "markdown",
   "id": "826428d5",
   "metadata": {},
   "source": [
    "# pointplot"
   ]
  },
  {
   "cell_type": "code",
   "execution_count": 11,
   "id": "e4bbd59c",
   "metadata": {},
   "outputs": [
    {
     "name": "stderr",
     "output_type": "stream",
     "text": [
      "/var/folders/c9/pbp698d91wq6k8cv8vw5lkbh0000gp/T/ipykernel_83123/3639851664.py:6: FutureWarning: \n",
      "\n",
      "The `ci` parameter is deprecated. Use `errorbar='sd'` for the same effect.\n",
      "\n",
      "  sns.pointplot(x = 'bins',y = var[i],data = olhc_n,ax = ax,join = False,ci = 'sd',\n"
     ]
    },
    {
     "ename": "ValueError",
     "evalue": "Could not interpret input '$Diameter$'",
     "output_type": "error",
     "traceback": [
      "\u001b[0;31m---------------------------------------------------------------------------\u001b[0m",
      "\u001b[0;31mValueError\u001b[0m                                Traceback (most recent call last)",
      "\u001b[1;32m/Users/Kay/论文/2023-Loss Aversion/李洪瑶/图像相关/pointplot.ipynb 单元格 14\u001b[0m line \u001b[0;36m6\n\u001b[1;32m      <a href='vscode-notebook-cell:/Users/Kay/%E8%AE%BA%E6%96%87/2023-Loss%20Aversion/%E6%9D%8E%E6%B4%AA%E7%91%B6/%E5%9B%BE%E5%83%8F%E7%9B%B8%E5%85%B3/pointplot.ipynb#X16sZmlsZQ%3D%3D?line=3'>4</a>\u001b[0m \u001b[39m#flatui = [\"#348634\", \"#7eb17e\", \"#c8dcc8\", \"#efcece\", \"#e98888\",\"#e24343\"]\u001b[39;00m\n\u001b[1;32m      <a href='vscode-notebook-cell:/Users/Kay/%E8%AE%BA%E6%96%87/2023-Loss%20Aversion/%E6%9D%8E%E6%B4%AA%E7%91%B6/%E5%9B%BE%E5%83%8F%E7%9B%B8%E5%85%B3/pointplot.ipynb#X16sZmlsZQ%3D%3D?line=4'>5</a>\u001b[0m flatui \u001b[39m=\u001b[39m [\u001b[39m\"\u001b[39m\u001b[39m#279327\u001b[39m\u001b[39m\"\u001b[39m, \u001b[39m\"\u001b[39m\u001b[39m#75b975\u001b[39m\u001b[39m\"\u001b[39m, \u001b[39m\"\u001b[39m\u001b[39m#c4e0c4\u001b[39m\u001b[39m\"\u001b[39m, \u001b[39m\"\u001b[39m\u001b[39m#f5c8c8\u001b[39m\u001b[39m\"\u001b[39m, \u001b[39m\"\u001b[39m\u001b[39m#f97878\u001b[39m\u001b[39m\"\u001b[39m,\u001b[39m\"\u001b[39m\u001b[39m#fd2828\u001b[39m\u001b[39m\"\u001b[39m]\n\u001b[0;32m----> <a href='vscode-notebook-cell:/Users/Kay/%E8%AE%BA%E6%96%87/2023-Loss%20Aversion/%E6%9D%8E%E6%B4%AA%E7%91%B6/%E5%9B%BE%E5%83%8F%E7%9B%B8%E5%85%B3/pointplot.ipynb#X16sZmlsZQ%3D%3D?line=5'>6</a>\u001b[0m sns\u001b[39m.\u001b[39;49mpointplot(x \u001b[39m=\u001b[39;49m \u001b[39m'\u001b[39;49m\u001b[39mbins\u001b[39;49m\u001b[39m'\u001b[39;49m,y \u001b[39m=\u001b[39;49m var[i],data \u001b[39m=\u001b[39;49m olhc_n,ax \u001b[39m=\u001b[39;49m ax,join \u001b[39m=\u001b[39;49m \u001b[39mFalse\u001b[39;49;00m,ci \u001b[39m=\u001b[39;49m \u001b[39m'\u001b[39;49m\u001b[39msd\u001b[39;49m\u001b[39m'\u001b[39;49m,\n\u001b[1;32m      <a href='vscode-notebook-cell:/Users/Kay/%E8%AE%BA%E6%96%87/2023-Loss%20Aversion/%E6%9D%8E%E6%B4%AA%E7%91%B6/%E5%9B%BE%E5%83%8F%E7%9B%B8%E5%85%B3/pointplot.ipynb#X16sZmlsZQ%3D%3D?line=6'>7</a>\u001b[0m             \u001b[39m#   catsize = 1,\u001b[39;49;00m\n\u001b[1;32m      <a href='vscode-notebook-cell:/Users/Kay/%E8%AE%BA%E6%96%87/2023-Loss%20Aversion/%E6%9D%8E%E6%B4%AA%E7%91%B6/%E5%9B%BE%E5%83%8F%E7%9B%B8%E5%85%B3/pointplot.ipynb#X16sZmlsZQ%3D%3D?line=7'>8</a>\u001b[0m               scale\u001b[39m=\u001b[39;49m\u001b[39m2.25\u001b[39;49m,\n\u001b[1;32m      <a href='vscode-notebook-cell:/Users/Kay/%E8%AE%BA%E6%96%87/2023-Loss%20Aversion/%E6%9D%8E%E6%B4%AA%E7%91%B6/%E5%9B%BE%E5%83%8F%E7%9B%B8%E5%85%B3/pointplot.ipynb#X16sZmlsZQ%3D%3D?line=8'>9</a>\u001b[0m                 order \u001b[39m=\u001b[39;49m [\u001b[39m'\u001b[39;49m\u001b[39m(-10.0, -4.2]\u001b[39;49m\u001b[39m'\u001b[39;49m,\u001b[39m'\u001b[39;49m\u001b[39m(-4.2, -1.4]\u001b[39;49m\u001b[39m'\u001b[39;49m,\u001b[39m'\u001b[39;49m\u001b[39m(-1.4, 0.0]\u001b[39;49m\u001b[39m'\u001b[39;49m,\u001b[39m'\u001b[39;49m\u001b[39m(0.0, 1.4]\u001b[39;49m\u001b[39m'\u001b[39;49m,\u001b[39m'\u001b[39;49m\u001b[39m(1.4, 4.2]\u001b[39;49m\u001b[39m'\u001b[39;49m,\u001b[39m'\u001b[39;49m\u001b[39m(4.2, 10.0]\u001b[39;49m\u001b[39m'\u001b[39;49m],\n\u001b[1;32m     <a href='vscode-notebook-cell:/Users/Kay/%E8%AE%BA%E6%96%87/2023-Loss%20Aversion/%E6%9D%8E%E6%B4%AA%E7%91%B6/%E5%9B%BE%E5%83%8F%E7%9B%B8%E5%85%B3/pointplot.ipynb#X16sZmlsZQ%3D%3D?line=9'>10</a>\u001b[0m                palette\u001b[39m=\u001b[39;49msns\u001b[39m.\u001b[39;49mcolor_palette(flatui),\n\u001b[1;32m     <a href='vscode-notebook-cell:/Users/Kay/%E8%AE%BA%E6%96%87/2023-Loss%20Aversion/%E6%9D%8E%E6%B4%AA%E7%91%B6/%E5%9B%BE%E5%83%8F%E7%9B%B8%E5%85%B3/pointplot.ipynb#X16sZmlsZQ%3D%3D?line=10'>11</a>\u001b[0m             \u001b[39m#    saturation=1,\u001b[39;49;00m\n\u001b[1;32m     <a href='vscode-notebook-cell:/Users/Kay/%E8%AE%BA%E6%96%87/2023-Loss%20Aversion/%E6%9D%8E%E6%B4%AA%E7%91%B6/%E5%9B%BE%E5%83%8F%E7%9B%B8%E5%85%B3/pointplot.ipynb#X16sZmlsZQ%3D%3D?line=11'>12</a>\u001b[0m                errwidth \u001b[39m=\u001b[39;49m \u001b[39m3\u001b[39;49m,markers\u001b[39m=\u001b[39;49m\u001b[39m'\u001b[39;49m\u001b[39mo\u001b[39;49m\u001b[39m'\u001b[39;49m)\n\u001b[1;32m     <a href='vscode-notebook-cell:/Users/Kay/%E8%AE%BA%E6%96%87/2023-Loss%20Aversion/%E6%9D%8E%E6%B4%AA%E7%91%B6/%E5%9B%BE%E5%83%8F%E7%9B%B8%E5%85%B3/pointplot.ipynb#X16sZmlsZQ%3D%3D?line=12'>13</a>\u001b[0m plt\u001b[39m.\u001b[39mxlabel(\u001b[39m'\u001b[39m\u001b[39m$r$\u001b[39m\u001b[39m'\u001b[39m,fontdict\u001b[39m=\u001b[39m{\u001b[39m'\u001b[39m\u001b[39mweight\u001b[39m\u001b[39m'\u001b[39m: \u001b[39m'\u001b[39m\u001b[39mnormal\u001b[39m\u001b[39m'\u001b[39m, \u001b[39m'\u001b[39m\u001b[39msize\u001b[39m\u001b[39m'\u001b[39m: \u001b[39m15\u001b[39m})\n\u001b[1;32m     <a href='vscode-notebook-cell:/Users/Kay/%E8%AE%BA%E6%96%87/2023-Loss%20Aversion/%E6%9D%8E%E6%B4%AA%E7%91%B6/%E5%9B%BE%E5%83%8F%E7%9B%B8%E5%85%B3/pointplot.ipynb#X16sZmlsZQ%3D%3D?line=13'>14</a>\u001b[0m plt\u001b[39m.\u001b[39mylabel(var[i],fontdict\u001b[39m=\u001b[39m{\u001b[39m'\u001b[39m\u001b[39mweight\u001b[39m\u001b[39m'\u001b[39m: \u001b[39m'\u001b[39m\u001b[39mnormal\u001b[39m\u001b[39m'\u001b[39m, \u001b[39m'\u001b[39m\u001b[39msize\u001b[39m\u001b[39m'\u001b[39m: \u001b[39m15\u001b[39m})\n",
      "File \u001b[0;32m~/anaconda3/lib/python3.9/site-packages/seaborn/categorical.py:2839\u001b[0m, in \u001b[0;36mpointplot\u001b[0;34m(data, x, y, hue, order, hue_order, estimator, errorbar, n_boot, units, seed, markers, linestyles, dodge, join, scale, orient, color, palette, errwidth, ci, capsize, label, ax)\u001b[0m\n\u001b[1;32m   2829\u001b[0m \u001b[39mdef\u001b[39;00m \u001b[39mpointplot\u001b[39m(\n\u001b[1;32m   2830\u001b[0m     data\u001b[39m=\u001b[39m\u001b[39mNone\u001b[39;00m, \u001b[39m*\u001b[39m, x\u001b[39m=\u001b[39m\u001b[39mNone\u001b[39;00m, y\u001b[39m=\u001b[39m\u001b[39mNone\u001b[39;00m, hue\u001b[39m=\u001b[39m\u001b[39mNone\u001b[39;00m, order\u001b[39m=\u001b[39m\u001b[39mNone\u001b[39;00m, hue_order\u001b[39m=\u001b[39m\u001b[39mNone\u001b[39;00m,\n\u001b[1;32m   2831\u001b[0m     estimator\u001b[39m=\u001b[39m\u001b[39m\"\u001b[39m\u001b[39mmean\u001b[39m\u001b[39m\"\u001b[39m, errorbar\u001b[39m=\u001b[39m(\u001b[39m\"\u001b[39m\u001b[39mci\u001b[39m\u001b[39m\"\u001b[39m, \u001b[39m95\u001b[39m), n_boot\u001b[39m=\u001b[39m\u001b[39m1000\u001b[39m, units\u001b[39m=\u001b[39m\u001b[39mNone\u001b[39;00m, seed\u001b[39m=\u001b[39m\u001b[39mNone\u001b[39;00m,\n\u001b[0;32m   (...)\u001b[0m\n\u001b[1;32m   2834\u001b[0m     capsize\u001b[39m=\u001b[39m\u001b[39mNone\u001b[39;00m, label\u001b[39m=\u001b[39m\u001b[39mNone\u001b[39;00m, ax\u001b[39m=\u001b[39m\u001b[39mNone\u001b[39;00m,\n\u001b[1;32m   2835\u001b[0m ):\n\u001b[1;32m   2837\u001b[0m     errorbar \u001b[39m=\u001b[39m utils\u001b[39m.\u001b[39m_deprecate_ci(errorbar, ci)\n\u001b[0;32m-> 2839\u001b[0m     plotter \u001b[39m=\u001b[39m _PointPlotter(x, y, hue, data, order, hue_order,\n\u001b[1;32m   2840\u001b[0m                             estimator, errorbar, n_boot, units, seed,\n\u001b[1;32m   2841\u001b[0m                             markers, linestyles, dodge, join, scale,\n\u001b[1;32m   2842\u001b[0m                             orient, color, palette, errwidth, capsize, label)\n\u001b[1;32m   2844\u001b[0m     \u001b[39mif\u001b[39;00m ax \u001b[39mis\u001b[39;00m \u001b[39mNone\u001b[39;00m:\n\u001b[1;32m   2845\u001b[0m         ax \u001b[39m=\u001b[39m plt\u001b[39m.\u001b[39mgca()\n",
      "File \u001b[0;32m~/anaconda3/lib/python3.9/site-packages/seaborn/categorical.py:1601\u001b[0m, in \u001b[0;36m_PointPlotter.__init__\u001b[0;34m(self, x, y, hue, data, order, hue_order, estimator, errorbar, n_boot, units, seed, markers, linestyles, dodge, join, scale, orient, color, palette, errwidth, capsize, label)\u001b[0m\n\u001b[1;32m   1596\u001b[0m \u001b[39mdef\u001b[39;00m \u001b[39m__init__\u001b[39m(\u001b[39mself\u001b[39m, x, y, hue, data, order, hue_order,\n\u001b[1;32m   1597\u001b[0m              estimator, errorbar, n_boot, units, seed,\n\u001b[1;32m   1598\u001b[0m              markers, linestyles, dodge, join, scale,\n\u001b[1;32m   1599\u001b[0m              orient, color, palette, errwidth, capsize, label):\n\u001b[1;32m   1600\u001b[0m \u001b[39m    \u001b[39m\u001b[39m\"\"\"Initialize the plotter.\"\"\"\u001b[39;00m\n\u001b[0;32m-> 1601\u001b[0m     \u001b[39mself\u001b[39;49m\u001b[39m.\u001b[39;49mestablish_variables(x, y, hue, data, orient,\n\u001b[1;32m   1602\u001b[0m                              order, hue_order, units)\n\u001b[1;32m   1603\u001b[0m     \u001b[39mself\u001b[39m\u001b[39m.\u001b[39mestablish_colors(color, palette, \u001b[39m1\u001b[39m)\n\u001b[1;32m   1604\u001b[0m     \u001b[39mself\u001b[39m\u001b[39m.\u001b[39mestimate_statistic(estimator, errorbar, n_boot, seed)\n",
      "File \u001b[0;32m~/anaconda3/lib/python3.9/site-packages/seaborn/categorical.py:541\u001b[0m, in \u001b[0;36m_CategoricalPlotter.establish_variables\u001b[0;34m(self, x, y, hue, data, orient, order, hue_order, units)\u001b[0m\n\u001b[1;32m    539\u001b[0m     \u001b[39mif\u001b[39;00m \u001b[39misinstance\u001b[39m(var, \u001b[39mstr\u001b[39m):\n\u001b[1;32m    540\u001b[0m         err \u001b[39m=\u001b[39m \u001b[39mf\u001b[39m\u001b[39m\"\u001b[39m\u001b[39mCould not interpret input \u001b[39m\u001b[39m'\u001b[39m\u001b[39m{\u001b[39;00mvar\u001b[39m}\u001b[39;00m\u001b[39m'\u001b[39m\u001b[39m\"\u001b[39m\n\u001b[0;32m--> 541\u001b[0m         \u001b[39mraise\u001b[39;00m \u001b[39mValueError\u001b[39;00m(err)\n\u001b[1;32m    543\u001b[0m \u001b[39m# Figure out the plotting orientation\u001b[39;00m\n\u001b[1;32m    544\u001b[0m orient \u001b[39m=\u001b[39m infer_orient(\n\u001b[1;32m    545\u001b[0m     x, y, orient, require_numeric\u001b[39m=\u001b[39m\u001b[39mself\u001b[39m\u001b[39m.\u001b[39mrequire_numeric\n\u001b[1;32m    546\u001b[0m )\n",
      "\u001b[0;31mValueError\u001b[0m: Could not interpret input '$Diameter$'"
     ]
    },
    {
     "data": {
      "image/png": "[encoded data removed]",
      "text/plain": [
       "<Figure size 950x700 with 1 Axes>"
      ]
     },
     "metadata": {},
     "output_type": "display_data"
    }
   ],
   "source": [
    "for i in range(10):\n",
    "    fig, ax = plt.subplots(1,1,figsize=(9.5,7))\n",
    "    sns.set_theme(style=\"white\")\n",
    "    #flatui = [\"#348634\", \"#7eb17e\", \"#c8dcc8\", \"#efcece\", \"#e98888\",\"#e24343\"]\n",
    "    flatui = [\"#279327\", \"#75b975\", \"#c4e0c4\", \"#f5c8c8\", \"#f97878\",\"#fd2828\"]\n",
    "    sns.pointplot(x = 'bins',y = var[i],data = olhc_n,ax = ax,join = False,ci = 'sd',\n",
    "                #   catsize = 1,\n",
    "                  scale=2.25,\n",
    "                    order = ['(-10.0, -4.2]','(-4.2, -1.4]','(-1.4, 0.0]','(0.0, 1.4]','(1.4, 4.2]','(4.2, 10.0]'],\n",
    "                   palette=sns.color_palette(flatui),\n",
    "                #    saturation=1,\n",
    "                   errwidth = 3,markers='o')\n",
    "    plt.xlabel('$r$',fontdict={'weight': 'normal', 'size': 15})\n",
    "    plt.ylabel(var[i],fontdict={'weight': 'normal', 'size': 15})\n",
    "    plt.yticks(fontproperties = 'Times New Roman',size = 14)\n",
    "    plt.xticks(fontproperties = 'Times New Roman', size = 14)\n",
    "    #change_width(ax,.5)\n",
    "    plt.savefig(f'C:/Users/Lenovo/Desktop/pdf_figure/ {var[i]}.pdf',dpi = 300)\n",
    "    plt.show()"
   ]
  },
  {
   "cell_type": "markdown",
   "id": "ac4cb948",
   "metadata": {},
   "source": [
    "单个指标图像异常的解释"
   ]
  },
  {
   "cell_type": "code",
   "execution_count": 71,
   "id": "f80ecfad",
   "metadata": {
    "collapsed": true
   },
   "outputs": [
    {
     "data": {
      "image/png": "[encoded data removed]",
      "text/plain": [
       "<Figure size 684x504 with 1 Axes>"
      ]
     },
     "metadata": {
      "needs_background": "light"
     },
     "output_type": "display_data"
    },
    {
     "data": {
      "text/plain": [
       "<Figure size 432x288 with 0 Axes>"
      ]
     },
     "metadata": {},
     "output_type": "display_data"
    }
   ],
   "source": [
    "#直径\n",
    "plt.figure(figsize=(9.5,7))\n",
    "sns.set_theme(style=\"white\")\n",
    "flatui = [\"#279327\", \"#75b975\", \"#c4e0c4\", \"#f5c8c8\", \"#f97878\",\"#fd2828\"]\n",
    "sns.boxplot(x = 'bins',y = 'diameter',data=olhc_6,width=0.5,showfliers=False,palette=sns.color_palette(flatui),\n",
    "            order = ['(-10.0, -4.2]','(-4.2, -1.4]','(-1.4, 0.0]','(0.0, 1.4]','(1.4, 4.2]','(4.2, 10.0]'])\n",
    "plt.xlabel('$C$',fontdict={'weight': 'normal', 'size': 15})\n",
    "plt.ylabel('Network diameter',fontdict={'weight': 'normal', 'size': 15})\n",
    "plt.yticks(fontproperties = 'Times New Roman',size = 14)\n",
    "plt.xticks(fontproperties = 'Times New Roman', size = 14)\n",
    "plt.show()\n",
    "plt.savefig('C:/Users/Lenovo/Desktop/boxplot Diameter .eps',dpi = 300)"
   ]
  },
  {
   "cell_type": "markdown",
   "id": "cec292b5",
   "metadata": {},
   "source": [
    "经计算，（0.0，1.4]组的直径中位数和下四分位数一致，均为2"
   ]
  },
  {
   "cell_type": "code",
   "execution_count": 55,
   "id": "ba95919e",
   "metadata": {},
   "outputs": [
    {
     "data": {
      "text/plain": [
       "count    47.000000\n",
       "mean      8.978723\n",
       "std       8.380851\n",
       "min       0.000000\n",
       "25%       2.000000\n",
       "50%       2.000000\n",
       "75%      18.000000\n",
       "max      23.000000\n",
       "Name: diameter, dtype: float64"
      ]
     },
     "execution_count": 55,
     "metadata": {},
     "output_type": "execute_result"
    }
   ],
   "source": [
    "dia = olhc_6[olhc_6['bins'] == \"(0.0, 1.4]\"]\n",
    "#dia\n",
    "dia['diameter'].describe()"
   ]
  },
  {
   "cell_type": "code",
   "execution_count": 12,
   "id": "48a96a87",
   "metadata": {},
   "outputs": [
    {
     "data": {
      "text/plain": [
       "count    151.000000\n",
       "mean      -0.486008\n",
       "std        0.142154\n",
       "min       -0.824098\n",
       "25%       -0.598161\n",
       "50%       -0.484453\n",
       "75%       -0.370387\n",
       "max       -0.161154\n",
       "Name: DAJ, dtype: float64"
      ]
     },
     "execution_count": 12,
     "metadata": {},
     "output_type": "execute_result"
    }
   ],
   "source": [
    "dia = hddf[hddf['bins'] == \"(0.0, 1.4]\"]\n",
    "#dia\n",
    "dia['DAJ'].describe()"
   ]
  },
  {
   "cell_type": "markdown",
   "id": "5c95be41",
   "metadata": {},
   "source": [
    "# 微博量和厌恶情绪"
   ]
  },
  {
   "cell_type": "code",
   "execution_count": 2,
   "id": "3c62f175",
   "metadata": {},
   "outputs": [
    {
     "data": {
      "text/html": [
       "<div>\n",
       "<style scoped>\n",
       "    .dataframe tbody tr th:only-of-type {\n",
       "        vertical-align: middle;\n",
       "    }\n",
       "\n",
       "    .dataframe tbody tr th {\n",
       "        vertical-align: top;\n",
       "    }\n",
       "\n",
       "    .dataframe thead th {\n",
       "        text-align: right;\n",
       "    }\n",
       "</style>\n",
       "<table border=\"1\" class=\"dataframe\">\n",
       "  <thead>\n",
       "    <tr style=\"text-align: right;\">\n",
       "      <th></th>\n",
       "      <th>date</th>\n",
       "      <th>open</th>\n",
       "      <th>high</th>\n",
       "      <th>low</th>\n",
       "      <th>close</th>\n",
       "      <th>volume</th>\n",
       "      <th>anger</th>\n",
       "      <th>disgust</th>\n",
       "      <th>joy</th>\n",
       "      <th>sadness</th>\n",
       "      <th>fear</th>\n",
       "      <th>su</th>\n",
       "    </tr>\n",
       "  </thead>\n",
       "  <tbody>\n",
       "    <tr>\n",
       "      <th>0</th>\n",
       "      <td>2014/12/2</td>\n",
       "      <td>-0.4820</td>\n",
       "      <td>3.6047</td>\n",
       "      <td>-0.5616</td>\n",
       "      <td>3.08</td>\n",
       "      <td>437700</td>\n",
       "      <td>3151</td>\n",
       "      <td>4059</td>\n",
       "      <td>6675</td>\n",
       "      <td>1045</td>\n",
       "      <td>6092</td>\n",
       "      <td>21732</td>\n",
       "    </tr>\n",
       "    <tr>\n",
       "      <th>1</th>\n",
       "      <td>2014/12/3</td>\n",
       "      <td>0.1940</td>\n",
       "      <td>2.2025</td>\n",
       "      <td>-1.0657</td>\n",
       "      <td>0.59</td>\n",
       "      <td>562100</td>\n",
       "      <td>3823</td>\n",
       "      <td>4633</td>\n",
       "      <td>9353</td>\n",
       "      <td>1435</td>\n",
       "      <td>7412</td>\n",
       "      <td>27462</td>\n",
       "    </tr>\n",
       "    <tr>\n",
       "      <th>2</th>\n",
       "      <td>2014/12/4</td>\n",
       "      <td>0.1343</td>\n",
       "      <td>4.3447</td>\n",
       "      <td>-0.2628</td>\n",
       "      <td>4.34</td>\n",
       "      <td>532700</td>\n",
       "      <td>5060</td>\n",
       "      <td>7280</td>\n",
       "      <td>12161</td>\n",
       "      <td>2836</td>\n",
       "      <td>10107</td>\n",
       "      <td>39274</td>\n",
       "    </tr>\n",
       "    <tr>\n",
       "      <th>3</th>\n",
       "      <td>2014/12/5</td>\n",
       "      <td>0.9037</td>\n",
       "      <td>2.6778</td>\n",
       "      <td>-3.0103</td>\n",
       "      <td>1.32</td>\n",
       "      <td>640500</td>\n",
       "      <td>4453</td>\n",
       "      <td>7438</td>\n",
       "      <td>11557</td>\n",
       "      <td>2443</td>\n",
       "      <td>10114</td>\n",
       "      <td>37434</td>\n",
       "    </tr>\n",
       "    <tr>\n",
       "      <th>4</th>\n",
       "      <td>2014/12/8</td>\n",
       "      <td>-1.0537</td>\n",
       "      <td>3.5006</td>\n",
       "      <td>-2.0054</td>\n",
       "      <td>2.82</td>\n",
       "      <td>587600</td>\n",
       "      <td>3965</td>\n",
       "      <td>5384</td>\n",
       "      <td>8904</td>\n",
       "      <td>1496</td>\n",
       "      <td>9066</td>\n",
       "      <td>29860</td>\n",
       "    </tr>\n",
       "  </tbody>\n",
       "</table>\n",
       "</div>"
      ],
      "text/plain": [
       "        date    open    high     low  close  volume  anger  disgust    joy  \\\n",
       "0  2014/12/2 -0.4820  3.6047 -0.5616   3.08  437700   3151     4059   6675   \n",
       "1  2014/12/3  0.1940  2.2025 -1.0657   0.59  562100   3823     4633   9353   \n",
       "2  2014/12/4  0.1343  4.3447 -0.2628   4.34  532700   5060     7280  12161   \n",
       "3  2014/12/5  0.9037  2.6778 -3.0103   1.32  640500   4453     7438  11557   \n",
       "4  2014/12/8 -1.0537  3.5006 -2.0054   2.82  587600   3965     5384   8904   \n",
       "\n",
       "   sadness   fear     su  \n",
       "0     1045   6092  21732  \n",
       "1     1435   7412  27462  \n",
       "2     2836  10107  39274  \n",
       "3     2443  10114  37434  \n",
       "4     1496   9066  29860  "
      ]
     },
     "execution_count": 2,
     "metadata": {},
     "output_type": "execute_result"
    }
   ],
   "source": [
    "olhc = pd.read_csv('C:/Users/Lenovo/yan/D/数据/olhc.csv')\n",
    "olhc.head()"
   ]
  },
  {
   "cell_type": "code",
   "execution_count": 3,
   "id": "7a744651",
   "metadata": {},
   "outputs": [],
   "source": [
    "group = [-10,-4.2,-1.4,0,1.4,4.2,10]"
   ]
  },
  {
   "cell_type": "code",
   "execution_count": 6,
   "id": "1226d21c",
   "metadata": {},
   "outputs": [
    {
     "data": {
      "text/html": [
       "<div>\n",
       "<style scoped>\n",
       "    .dataframe tbody tr th:only-of-type {\n",
       "        vertical-align: middle;\n",
       "    }\n",
       "\n",
       "    .dataframe tbody tr th {\n",
       "        vertical-align: top;\n",
       "    }\n",
       "\n",
       "    .dataframe thead th {\n",
       "        text-align: right;\n",
       "    }\n",
       "</style>\n",
       "<table border=\"1\" class=\"dataframe\">\n",
       "  <thead>\n",
       "    <tr style=\"text-align: right;\">\n",
       "      <th></th>\n",
       "      <th>bins</th>\n",
       "    </tr>\n",
       "    <tr>\n",
       "      <th>Bins</th>\n",
       "      <th></th>\n",
       "    </tr>\n",
       "  </thead>\n",
       "  <tbody>\n",
       "    <tr>\n",
       "      <th>(-10.0, -4.2]</th>\n",
       "      <td>19</td>\n",
       "    </tr>\n",
       "    <tr>\n",
       "      <th>(-4.2, -1.4]</th>\n",
       "      <td>55</td>\n",
       "    </tr>\n",
       "    <tr>\n",
       "      <th>(-1.4, 0.0]</th>\n",
       "      <td>121</td>\n",
       "    </tr>\n",
       "    <tr>\n",
       "      <th>(0.0, 1.4]</th>\n",
       "      <td>151</td>\n",
       "    </tr>\n",
       "    <tr>\n",
       "      <th>(1.4, 4.2]</th>\n",
       "      <td>92</td>\n",
       "    </tr>\n",
       "    <tr>\n",
       "      <th>(4.2, 10.0]</th>\n",
       "      <td>12</td>\n",
       "    </tr>\n",
       "  </tbody>\n",
       "</table>\n",
       "</div>"
      ],
      "text/plain": [
       "               bins\n",
       "Bins               \n",
       "(-10.0, -4.2]    19\n",
       "(-4.2, -1.4]     55\n",
       "(-1.4, 0.0]     121\n",
       "(0.0, 1.4]      151\n",
       "(1.4, 4.2]       92\n",
       "(4.2, 10.0]      12"
      ]
     },
     "execution_count": 6,
     "metadata": {},
     "output_type": "execute_result"
    }
   ],
   "source": [
    "olhc['bins'] = pd.cut(olhc['close'], group)\n",
    "olhc.to_csv('C:/Users/Lenovo/Desktop/hddf.csv')\n",
    "olhc_bins = olhc['bins'].value_counts().to_frame()\n",
    "olhc_bins.index.names = ['Bins']\n",
    "olhc_bins.sort_index(ascending=True, inplace=True)\n",
    "olhc_bins"
   ]
  },
  {
   "cell_type": "code",
   "execution_count": 3,
   "id": "aa7fdcc1",
   "metadata": {},
   "outputs": [],
   "source": [
    "hddf = pd.read_csv('C:/Users/Lenovo/yan/D/数据/hddf.csv')"
   ]
  },
  {
   "cell_type": "code",
   "execution_count": 11,
   "id": "7d3b2af3",
   "metadata": {},
   "outputs": [
    {
     "data": {
      "image/png": "[encoded data removed]",
      "text/plain": [
       "<Figure size 684x504 with 1 Axes>"
      ]
     },
     "metadata": {},
     "output_type": "display_data"
    }
   ],
   "source": [
    "fig, ax = plt.subplots(1,1,figsize=(9.5,7))\n",
    "sns.set_theme(style=\"white\")\n",
    "#flatui = [\"#348634\", \"#7eb17e\", \"#c8dcc8\", \"#efcece\", \"#e98888\",\"#e24343\"]\n",
    "flatui = [\"#279327\", \"#75b975\", \"#c4e0c4\", \"#f5c8c8\", \"#f97878\",\"#fd2828\"]\n",
    "sns.pointplot(x = 'bins',y = 'su',data = hddf,ax = ax,join = False,ci = 'sd',catsize = 1,scale=2.25,\n",
    "                order = ['(-10.0, -4.2]','(-4.2, -1.4]','(-1.4, 0.0]','(0.0, 1.4]','(1.4, 4.2]','(4.2, 10.0]'],\n",
    "               palette=sns.color_palette(flatui),saturation=1,errwidth = 3,markers='o')\n",
    "plt.xlabel('$r$',fontdict={'weight': 'normal', 'size': 15})\n",
    "plt.ylabel('Amount of tweets',fontdict={'weight': 'normal', 'size': 15})\n",
    "plt.yticks(fontproperties = 'Times New Roman',size = 14)\n",
    "plt.xticks(fontproperties = 'Times New Roman', size = 14)\n",
    "#change_width(ax,.5)\n",
    "plt.savefig('C:/Users/Lenovo/Desktop/pdf_figure/amount of tweets.pdf',dpi = 300)\n",
    "plt.show()"
   ]
  },
  {
   "cell_type": "code",
   "execution_count": 12,
   "id": "200b1e38",
   "metadata": {},
   "outputs": [
    {
     "data": {
      "image/png": "[encoded data removed]",
      "text/plain": [
       "<Figure size 684x504 with 1 Axes>"
      ]
     },
     "metadata": {},
     "output_type": "display_data"
    }
   ],
   "source": [
    "fig, ax = plt.subplots(1,1,figsize=(9.5,7))\n",
    "sns.set_theme(style=\"white\")\n",
    "#flatui = [\"#348634\", \"#7eb17e\", \"#c8dcc8\", \"#efcece\", \"#e98888\",\"#e24343\"]\n",
    "flatui = [\"#279327\", \"#75b975\", \"#c4e0c4\", \"#f5c8c8\", \"#f97878\",\"#fd2828\"]\n",
    "sns.pointplot(x = 'bins',y = 'disgust',data = hddf,ax = ax,join = False,ci = 'sd',catsize = 1,scale=2.25,\n",
    "                order = ['(-10.0, -4.2]','(-4.2, -1.4]','(-1.4, 0.0]','(0.0, 1.4]','(1.4, 4.2]','(4.2, 10.0]'],\n",
    "               palette=sns.color_palette(flatui),saturation=1,errwidth = 3,markers='o')\n",
    "plt.xlabel('$r$',fontdict={'weight': 'normal', 'size': 15})\n",
    "plt.ylabel('disgust',fontdict={'weight': 'normal', 'size': 15})\n",
    "plt.yticks(fontproperties = 'Times New Roman',size = 14)\n",
    "plt.xticks(fontproperties = 'Times New Roman', size = 14)\n",
    "#change_width(ax,.5)\n",
    "plt.savefig('C:/Users/Lenovo/Desktop/pdf_figure/disgust.pdf',dpi = 300)\n",
    "plt.show()"
   ]
  },
  {
   "cell_type": "markdown",
   "id": "76647717",
   "metadata": {},
   "source": [
    "# 方差分析"
   ]
  },
  {
   "cell_type": "markdown",
   "id": "d844a364",
   "metadata": {},
   "source": [
    "#网络属性"
   ]
  },
  {
   "cell_type": "code",
   "execution_count": 44,
   "id": "a1503557",
   "metadata": {},
   "outputs": [
    {
     "data": {
      "text/html": [
       "<div>\n",
       "<style scoped>\n",
       "    .dataframe tbody tr th:only-of-type {\n",
       "        vertical-align: middle;\n",
       "    }\n",
       "\n",
       "    .dataframe tbody tr th {\n",
       "        vertical-align: top;\n",
       "    }\n",
       "\n",
       "    .dataframe thead th {\n",
       "        text-align: right;\n",
       "    }\n",
       "</style>\n",
       "<table border=\"1\" class=\"dataframe\">\n",
       "  <thead>\n",
       "    <tr style=\"text-align: right;\">\n",
       "      <th></th>\n",
       "      <th>df</th>\n",
       "      <th>sum_sq</th>\n",
       "      <th>mean_sq</th>\n",
       "      <th>F</th>\n",
       "      <th>PR(&gt;F)</th>\n",
       "    </tr>\n",
       "  </thead>\n",
       "  <tbody>\n",
       "    <tr>\n",
       "      <th>C(bins)</th>\n",
       "      <td>5.0</td>\n",
       "      <td>0.327310</td>\n",
       "      <td>0.065462</td>\n",
       "      <td>7.281193</td>\n",
       "      <td>0.000003</td>\n",
       "    </tr>\n",
       "    <tr>\n",
       "      <th>Residual</th>\n",
       "      <td>165.0</td>\n",
       "      <td>1.483442</td>\n",
       "      <td>0.008991</td>\n",
       "      <td>NaN</td>\n",
       "      <td>NaN</td>\n",
       "    </tr>\n",
       "  </tbody>\n",
       "</table>\n",
       "</div>"
      ],
      "text/plain": [
       "             df    sum_sq   mean_sq         F    PR(>F)\n",
       "C(bins)     5.0  0.327310  0.065462  7.281193  0.000003\n",
       "Residual  165.0  1.483442  0.008991       NaN       NaN"
      ]
     },
     "execution_count": 44,
     "metadata": {},
     "output_type": "execute_result"
    }
   ],
   "source": [
    "model_1 = ols('average_degree~C(bins)', data = olhc_6).fit()\n",
    "anova_table = anova_lm(model_1)\n",
    "pd.DataFrame(anova_table)\n",
    "#不同的分组水平，对于因变量的影响不显著的，p值大于0.05."
   ]
  },
  {
   "cell_type": "code",
   "execution_count": 52,
   "id": "b5aa6f5d",
   "metadata": {},
   "outputs": [
    {
     "name": "stdout",
     "output_type": "stream",
     "text": [
      "        Multiple Comparison of Means - Tukey HSD, FWER=0.05         \n",
      "====================================================================\n",
      "    group1         group2     meandiff p-adj   lower   upper  reject\n",
      "--------------------------------------------------------------------\n",
      " (-8.5, -4.29] (-4.29, -1.43]  -0.1317 0.0067 -0.2389 -0.0245   True\n",
      " (-8.5, -4.29]   (-1.43, 0.0]  -0.1701  0.001 -0.2723 -0.0679   True\n",
      " (-8.5, -4.29]    (0.0, 1.43]  -0.1955  0.001 -0.2947 -0.0963   True\n",
      " (-8.5, -4.29]   (1.43, 4.29]  -0.1717  0.001 -0.2702 -0.0731   True\n",
      " (-8.5, -4.29]    (4.29, 8.5]    -0.11 0.1964 -0.2474  0.0274  False\n",
      "(-4.29, -1.43]   (-1.43, 0.0]  -0.0384 0.6413  -0.112  0.0352  False\n",
      "(-4.29, -1.43]    (0.0, 1.43]  -0.0638 0.0908 -0.1332  0.0056  False\n",
      "(-4.29, -1.43]   (1.43, 4.29]    -0.04 0.5381 -0.1085  0.0285  False\n",
      "(-4.29, -1.43]    (4.29, 8.5]   0.0217    0.9  -0.096  0.1394  False\n",
      "  (-1.43, 0.0]    (0.0, 1.43]  -0.0254 0.8187 -0.0868   0.036  False\n",
      "  (-1.43, 0.0]   (1.43, 4.29]  -0.0016    0.9  -0.062  0.0588  False\n",
      "  (-1.43, 0.0]    (4.29, 8.5]   0.0601 0.6258 -0.0531  0.1732  False\n",
      "   (0.0, 1.43]   (1.43, 4.29]   0.0238 0.7894 -0.0313  0.0789  False\n",
      "   (0.0, 1.43]    (4.29, 8.5]   0.0855 0.2291  -0.025  0.1959  False\n",
      "  (1.43, 4.29]    (4.29, 8.5]   0.0617 0.5756 -0.0482  0.1716  False\n",
      "--------------------------------------------------------------------\n"
     ]
    }
   ],
   "source": [
    "# 进行事后比较分析,比较两两组别之间的差异\n",
    "print(pairwise_tukeyhsd(olhc_6['average_degree'], olhc_6['bins']))"
   ]
  },
  {
   "cell_type": "markdown",
   "id": "3148c176",
   "metadata": {},
   "source": [
    "group1以及group2表示的是分组的不同水平，分析两个组是否有显著性差异，\n",
    "reject表示是否拒绝原假设，True表示的是拒绝原假设，说明两组均值有显著性差异"
   ]
  },
  {
   "cell_type": "markdown",
   "id": "b1e863ab",
   "metadata": {},
   "source": [
    "尝试将close只分为两组（涨和跌）"
   ]
  },
  {
   "cell_type": "markdown",
   "id": "ec877c05",
   "metadata": {},
   "source": [
    "#微博数量方差检验"
   ]
  },
  {
   "cell_type": "code",
   "execution_count": 47,
   "id": "8d568867",
   "metadata": {},
   "outputs": [
    {
     "data": {
      "text/html": [
       "<div>\n",
       "<style scoped>\n",
       "    .dataframe tbody tr th:only-of-type {\n",
       "        vertical-align: middle;\n",
       "    }\n",
       "\n",
       "    .dataframe tbody tr th {\n",
       "        vertical-align: top;\n",
       "    }\n",
       "\n",
       "    .dataframe thead th {\n",
       "        text-align: right;\n",
       "    }\n",
       "</style>\n",
       "<table border=\"1\" class=\"dataframe\">\n",
       "  <thead>\n",
       "    <tr style=\"text-align: right;\">\n",
       "      <th></th>\n",
       "      <th>df</th>\n",
       "      <th>sum_sq</th>\n",
       "      <th>mean_sq</th>\n",
       "      <th>F</th>\n",
       "      <th>PR(&gt;F)</th>\n",
       "    </tr>\n",
       "  </thead>\n",
       "  <tbody>\n",
       "    <tr>\n",
       "      <th>C(bins)</th>\n",
       "      <td>5.0</td>\n",
       "      <td>1.787029e+10</td>\n",
       "      <td>3.574058e+09</td>\n",
       "      <td>26.586261</td>\n",
       "      <td>1.594018e-23</td>\n",
       "    </tr>\n",
       "    <tr>\n",
       "      <th>Residual</th>\n",
       "      <td>444.0</td>\n",
       "      <td>5.968804e+10</td>\n",
       "      <td>1.344325e+08</td>\n",
       "      <td>NaN</td>\n",
       "      <td>NaN</td>\n",
       "    </tr>\n",
       "  </tbody>\n",
       "</table>\n",
       "</div>"
      ],
      "text/plain": [
       "             df        sum_sq       mean_sq          F        PR(>F)\n",
       "C(bins)     5.0  1.787029e+10  3.574058e+09  26.586261  1.594018e-23\n",
       "Residual  444.0  5.968804e+10  1.344325e+08        NaN           NaN"
      ]
     },
     "execution_count": 47,
     "metadata": {},
     "output_type": "execute_result"
    }
   ],
   "source": [
    "model_2 = ols('su ~C(bins)', data = olhc).fit()\n",
    "anova_table = anova_lm(model_2)\n",
    "pd.DataFrame(anova_table)"
   ]
  },
  {
   "cell_type": "code",
   "execution_count": 48,
   "id": "8240e1d3",
   "metadata": {},
   "outputs": [
    {
     "name": "stdout",
     "output_type": "stream",
     "text": [
      "              Multiple Comparison of Means - Tukey HSD, FWER=0.05              \n",
      "===============================================================================\n",
      "    group1         group2       meandiff  p-adj     lower       upper    reject\n",
      "-------------------------------------------------------------------------------\n",
      " (-8.5, -4.29] (-4.29, -1.43] -24053.2778  0.001 -33064.7265  -15041.829   True\n",
      " (-8.5, -4.29]   (-1.43, 0.0] -26788.0974  0.001 -35167.2218 -18408.9731   True\n",
      " (-8.5, -4.29]    (0.0, 1.43] -30521.2778  0.001 -38793.4049 -22249.1507   True\n",
      " (-8.5, -4.29]   (1.43, 4.29] -29220.7995  0.001 -37773.7698 -20667.8293   True\n",
      " (-8.5, -4.29]    (4.29, 8.5] -13715.7323 0.0257 -26416.1262  -1015.3385   True\n",
      "(-4.29, -1.43]   (-1.43, 0.0]  -2734.8197 0.6704  -8124.6632   2655.0239  False\n",
      "(-4.29, -1.43]    (0.0, 1.43]     -6468.0 0.0058 -11689.9513  -1246.0487   True\n",
      "(-4.29, -1.43]   (1.43, 4.29]  -5167.5217 0.0957 -10823.8446    488.8012  False\n",
      "(-4.29, -1.43]    (4.29, 8.5]  10337.5455 0.0776   -623.3255  21298.4164  False\n",
      "  (-1.43, 0.0]    (0.0, 1.43]  -3733.1803 0.0878  -7767.0732    300.7125  False\n",
      "  (-1.43, 0.0]   (1.43, 4.29]  -2432.7021 0.6317  -7015.0055   2149.6013  False\n",
      "  (-1.43, 0.0]    (4.29, 8.5]  13072.3651 0.0051   2625.1546  23519.5757   True\n",
      "   (0.0, 1.43]   (1.43, 4.29]   1300.4783    0.9  -3083.1124   5684.0689  False\n",
      "   (0.0, 1.43]    (4.29, 8.5]  16805.5455  0.001   6443.9543  27167.1366   True\n",
      "  (1.43, 4.29]    (4.29, 8.5]  15505.0672  0.001   4917.9154   26092.219   True\n",
      "-------------------------------------------------------------------------------\n"
     ]
    }
   ],
   "source": [
    "# 进行事后比较分析,比较两两组别之间的差异\n",
    "print(pairwise_tukeyhsd(olhc['su'], olhc['bins']))"
   ]
  },
  {
   "cell_type": "markdown",
   "id": "a0c3e126",
   "metadata": {},
   "source": [
    "#厌恶情绪"
   ]
  },
  {
   "cell_type": "code",
   "execution_count": 49,
   "id": "93fe33f5",
   "metadata": {},
   "outputs": [
    {
     "data": {
      "text/html": [
       "<div>\n",
       "<style scoped>\n",
       "    .dataframe tbody tr th:only-of-type {\n",
       "        vertical-align: middle;\n",
       "    }\n",
       "\n",
       "    .dataframe tbody tr th {\n",
       "        vertical-align: top;\n",
       "    }\n",
       "\n",
       "    .dataframe thead th {\n",
       "        text-align: right;\n",
       "    }\n",
       "</style>\n",
       "<table border=\"1\" class=\"dataframe\">\n",
       "  <thead>\n",
       "    <tr style=\"text-align: right;\">\n",
       "      <th></th>\n",
       "      <th>df</th>\n",
       "      <th>sum_sq</th>\n",
       "      <th>mean_sq</th>\n",
       "      <th>F</th>\n",
       "      <th>PR(&gt;F)</th>\n",
       "    </tr>\n",
       "  </thead>\n",
       "  <tbody>\n",
       "    <tr>\n",
       "      <th>C(bins)</th>\n",
       "      <td>5.0</td>\n",
       "      <td>1.445900e+08</td>\n",
       "      <td>2.891801e+07</td>\n",
       "      <td>15.477046</td>\n",
       "      <td>4.822048e-14</td>\n",
       "    </tr>\n",
       "    <tr>\n",
       "      <th>Residual</th>\n",
       "      <td>444.0</td>\n",
       "      <td>8.295895e+08</td>\n",
       "      <td>1.868445e+06</td>\n",
       "      <td>NaN</td>\n",
       "      <td>NaN</td>\n",
       "    </tr>\n",
       "  </tbody>\n",
       "</table>\n",
       "</div>"
      ],
      "text/plain": [
       "             df        sum_sq       mean_sq          F        PR(>F)\n",
       "C(bins)     5.0  1.445900e+08  2.891801e+07  15.477046  4.822048e-14\n",
       "Residual  444.0  8.295895e+08  1.868445e+06        NaN           NaN"
      ]
     },
     "execution_count": 49,
     "metadata": {},
     "output_type": "execute_result"
    }
   ],
   "source": [
    "model_3 = ols('disgust ~C(bins)', data = olhc).fit()\n",
    "anova_table = anova_lm(model_3)\n",
    "pd.DataFrame(anova_table)"
   ]
  },
  {
   "cell_type": "code",
   "execution_count": 50,
   "id": "56cdab73",
   "metadata": {},
   "outputs": [
    {
     "name": "stdout",
     "output_type": "stream",
     "text": [
      "            Multiple Comparison of Means - Tukey HSD, FWER=0.05             \n",
      "============================================================================\n",
      "    group1         group2      meandiff  p-adj    lower      upper    reject\n",
      "----------------------------------------------------------------------------\n",
      " (-8.5, -4.29] (-4.29, -1.43] -2291.5101  0.001 -3353.8967 -1229.1235   True\n",
      " (-8.5, -4.29]   (-1.43, 0.0] -2444.1047  0.001 -3431.9447 -1456.2647   True\n",
      " (-8.5, -4.29]    (0.0, 1.43] -2635.8977  0.001 -3611.1234 -1660.6719   True\n",
      " (-8.5, -4.29]   (1.43, 4.29] -2259.4251  0.001 -3267.7603 -1251.0899   True\n",
      " (-8.5, -4.29]    (4.29, 8.5]  -659.9646 0.7801  -2157.252   837.3227  False\n",
      "(-4.29, -1.43]   (-1.43, 0.0]  -152.5946    0.9  -788.0194   482.8301  False\n",
      "(-4.29, -1.43]    (0.0, 1.43]  -344.3876 0.5847   -960.019   271.2439  False\n",
      "(-4.29, -1.43]   (1.43, 4.29]     32.085    0.9  -634.7558   698.9258  False\n",
      "(-4.29, -1.43]    (4.29, 8.5]  1631.5455 0.0045   339.3356  2923.7553   True\n",
      "  (-1.43, 0.0]    (0.0, 1.43]  -191.7929 0.8419  -667.3606   283.7748  False\n",
      "  (-1.43, 0.0]   (1.43, 4.29]   184.6796    0.9  -355.5418   724.9011  False\n",
      "  (-1.43, 0.0]    (4.29, 8.5]  1784.1401  0.001   552.4872   3015.793   True\n",
      "   (0.0, 1.43]   (1.43, 4.29]   376.4725 0.2971  -140.3221   893.2671  False\n",
      "   (0.0, 1.43]    (4.29, 8.5]   1975.933  0.001   754.3741  3197.4919   True\n",
      "  (1.43, 4.29]    (4.29, 8.5]  1599.4605 0.0037   351.3095  2847.6114   True\n",
      "----------------------------------------------------------------------------\n"
     ]
    }
   ],
   "source": [
    "print(pairwise_tukeyhsd(olhc['disgust'], olhc['bins']))"
   ]
  },
  {
   "cell_type": "markdown",
   "id": "ba1b67c4",
   "metadata": {},
   "source": [
    "补一个修改cimax和ciglobal的ylabel的图"
   ]
  },
  {
   "cell_type": "code",
   "execution_count": 7,
   "id": "6994be30",
   "metadata": {},
   "outputs": [
    {
     "data": {
      "image/png": "[encoded data removed]",
      "text/plain": [
       "<Figure size 684x504 with 1 Axes>"
      ]
     },
     "metadata": {
      "needs_background": "light"
     },
     "output_type": "display_data"
    }
   ],
   "source": [
    "fig, ax = plt.subplots(1,1,figsize=(9.5,7))\n",
    "sns.set_theme(style=\"white\")\n",
    "#flatui = [\"#348634\", \"#7eb17e\", \"#c8dcc8\", \"#efcece\", \"#e98888\",\"#e24343\"]\n",
    "flatui = [\"#279327\", \"#75b975\", \"#c4e0c4\", \"#f5c8c8\", \"#f97878\",\"#fd2828\"]\n",
    "sns.pointplot(x = 'bins',y = 'ci_max',data = olhc_n,ax = ax,join = False,ci = 'sd',catsize = 1,scale=2.25,\n",
    "                order = ['(-10.0, -4.2]','(-4.2, -1.4]','(-1.4, 0.0]','(0.0, 1.4]','(1.4, 4.2]','(4.2, 10.0]'],\n",
    "               palette=sns.color_palette(flatui),saturation=1,errwidth = 3,markers='o')\n",
    "plt.xlabel('$r$',fontdict={'weight': 'normal', 'size': 15})\n",
    "plt.ylabel('$CI_{max}$',fontdict={'weight': 'normal', 'size': 15})\n",
    "plt.yticks(fontproperties = 'Times New Roman',size = 14)\n",
    "plt.xticks(fontproperties = 'Times New Roman', size = 14)\n",
    "#change_width(ax,.5)\n",
    "plt.savefig('C:/Users/Lenovo/Desktop/ci_max.pdf',dpi = 300)\n",
    "plt.show()"
   ]
  },
  {
   "cell_type": "code",
   "execution_count": 8,
   "id": "d409a3d8",
   "metadata": {},
   "outputs": [
    {
     "data": {
      "image/png": "[encoded data removed]",
      "text/plain": [
       "<Figure size 684x504 with 1 Axes>"
      ]
     },
     "metadata": {},
     "output_type": "display_data"
    }
   ],
   "source": [
    "fig, ax = plt.subplots(1,1,figsize=(9.5,7))\n",
    "sns.set_theme(style=\"white\")\n",
    "#flatui = [\"#348634\", \"#7eb17e\", \"#c8dcc8\", \"#efcece\", \"#e98888\",\"#e24343\"]\n",
    "flatui = [\"#279327\", \"#75b975\", \"#c4e0c4\", \"#f5c8c8\", \"#f97878\",\"#fd2828\"]\n",
    "sns.pointplot(x = 'bins',y = 'ci_global',data = olhc_n,ax = ax,join = False,ci = 'sd',catsize = 1,scale=2.25,\n",
    "                order = ['(-10.0, -4.2]','(-4.2, -1.4]','(-1.4, 0.0]','(0.0, 1.4]','(1.4, 4.2]','(4.2, 10.0]'],\n",
    "               palette=sns.color_palette(flatui),saturation=1,errwidth = 3,markers='o')\n",
    "plt.xlabel('$r$',fontdict={'weight': 'normal', 'size': 15})\n",
    "plt.ylabel('$CI_{global}$',fontdict={'weight': 'normal', 'size': 15})\n",
    "plt.yticks(fontproperties = 'Times New Roman',size = 14)\n",
    "plt.xticks(fontproperties = 'Times New Roman', size = 14)\n",
    "#change_width(ax,.5)\n",
    "plt.savefig('C:/Users/Lenovo/Desktop/pdf_figure/ci_global.pdf',dpi = 300)\n",
    "plt.show()"
   ]
  },
  {
   "cell_type": "markdown",
   "id": "24aba5a5",
   "metadata": {},
   "source": [
    "DAJ/DDJ/DSJ/DFJ的分组图像"
   ]
  },
  {
   "cell_type": "code",
   "execution_count": 4,
   "id": "1d2abb37",
   "metadata": {},
   "outputs": [],
   "source": [
    "var = ['DAJ','DDJ','DSJ','DFJ']"
   ]
  },
  {
   "cell_type": "code",
   "execution_count": 5,
   "id": "193eb57c",
   "metadata": {},
   "outputs": [
    {
     "data": {
      "image/png": "[encoded data removed]",
      "text/plain": [
       "<Figure size 684x504 with 1 Axes>"
      ]
     },
     "metadata": {
      "needs_background": "light"
     },
     "output_type": "display_data"
    },
    {
     "data": {
      "image/png": "[encoded data removed]",
      "text/plain": [
       "<Figure size 684x504 with 1 Axes>"
      ]
     },
     "metadata": {},
     "output_type": "display_data"
    },
    {
     "data": {
      "image/png": "[encoded data removed]",
      "text/plain": [
       "<Figure size 684x504 with 1 Axes>"
      ]
     },
     "metadata": {},
     "output_type": "display_data"
    },
    {
     "data": {
      "image/png": "[encoded data removed]",
      "text/plain": [
       "<Figure size 684x504 with 1 Axes>"
      ]
     },
     "metadata": {},
     "output_type": "display_data"
    },
    {
     "ename": "IndexError",
     "evalue": "list index out of range",
     "output_type": "error",
     "traceback": [
      "\u001b[1;31m---------------------------------------------------------------------------\u001b[0m",
      "\u001b[1;31mIndexError\u001b[0m                                Traceback (most recent call last)",
      "\u001b[1;32m<ipython-input-5-9c94b539e8d4>\u001b[0m in \u001b[0;36m<module>\u001b[1;34m\u001b[0m\n\u001b[0;32m      4\u001b[0m     \u001b[1;31m#flatui = [\"#348634\", \"#7eb17e\", \"#c8dcc8\", \"#efcece\", \"#e98888\",\"#e24343\"]\u001b[0m\u001b[1;33m\u001b[0m\u001b[1;33m\u001b[0m\u001b[1;33m\u001b[0m\u001b[0m\n\u001b[0;32m      5\u001b[0m     \u001b[0mflatui\u001b[0m \u001b[1;33m=\u001b[0m \u001b[1;33m[\u001b[0m\u001b[1;34m\"#279327\"\u001b[0m\u001b[1;33m,\u001b[0m \u001b[1;34m\"#75b975\"\u001b[0m\u001b[1;33m,\u001b[0m \u001b[1;34m\"#c4e0c4\"\u001b[0m\u001b[1;33m,\u001b[0m \u001b[1;34m\"#f5c8c8\"\u001b[0m\u001b[1;33m,\u001b[0m \u001b[1;34m\"#f97878\"\u001b[0m\u001b[1;33m,\u001b[0m\u001b[1;34m\"#fd2828\"\u001b[0m\u001b[1;33m]\u001b[0m\u001b[1;33m\u001b[0m\u001b[1;33m\u001b[0m\u001b[0m\n\u001b[1;32m----> 6\u001b[1;33m     sns.pointplot(x = 'bins',y = var[i],data = hddf,ax = ax,join = False,ci = 'sd',catsize = 1,scale=2.25,\n\u001b[0m\u001b[0;32m      7\u001b[0m                     \u001b[0morder\u001b[0m \u001b[1;33m=\u001b[0m \u001b[1;33m[\u001b[0m\u001b[1;34m'(-10.0, -4.2]'\u001b[0m\u001b[1;33m,\u001b[0m\u001b[1;34m'(-4.2, -1.4]'\u001b[0m\u001b[1;33m,\u001b[0m\u001b[1;34m'(-1.4, 0.0]'\u001b[0m\u001b[1;33m,\u001b[0m\u001b[1;34m'(0.0, 1.4]'\u001b[0m\u001b[1;33m,\u001b[0m\u001b[1;34m'(1.4, 4.2]'\u001b[0m\u001b[1;33m,\u001b[0m\u001b[1;34m'(4.2, 10.0]'\u001b[0m\u001b[1;33m]\u001b[0m\u001b[1;33m,\u001b[0m\u001b[1;33m\u001b[0m\u001b[1;33m\u001b[0m\u001b[0m\n\u001b[0;32m      8\u001b[0m                    palette=sns.color_palette(flatui),saturation=1,errwidth = 3,markers='o')\n",
      "\u001b[1;31mIndexError\u001b[0m: list index out of range"
     ]
    },
    {
     "data": {
      "image/png": "[encoded data removed]",
      "text/plain": [
       "<Figure size 684x504 with 1 Axes>"
      ]
     },
     "metadata": {},
     "output_type": "display_data"
    }
   ],
   "source": [
    "for i in range(5):\n",
    "    fig, ax = plt.subplots(1,1,figsize=(9.5,7))\n",
    "    sns.set_theme(style=\"white\")\n",
    "    #flatui = [\"#348634\", \"#7eb17e\", \"#c8dcc8\", \"#efcece\", \"#e98888\",\"#e24343\"]\n",
    "    flatui = [\"#279327\", \"#75b975\", \"#c4e0c4\", \"#f5c8c8\", \"#f97878\",\"#fd2828\"]\n",
    "    sns.pointplot(x = 'bins',y = var[i],data = hddf,ax = ax,join = False,ci = 'sd',catsize = 1,scale=2.25,\n",
    "                    order = ['(-10.0, -4.2]','(-4.2, -1.4]','(-1.4, 0.0]','(0.0, 1.4]','(1.4, 4.2]','(4.2, 10.0]'],\n",
    "                   palette=sns.color_palette(flatui),saturation=1,errwidth = 3,markers='o')\n",
    "    plt.xlabel('$r$',fontdict={'weight': 'normal', 'size': 15})\n",
    "    plt.ylabel(var[i],fontdict={'weight': 'normal', 'size': 15})\n",
    "    plt.yticks(fontproperties = 'Times New Roman',size = 14)\n",
    "    plt.xticks(fontproperties = 'Times New Roman', size = 14)\n",
    "    #change_width(ax,.5)\n",
    "    plt.savefig(f'C:/Users/Lenovo/Desktop/pdf_figure/ {var[i]}.pdf',dpi = 300)\n",
    "    plt.show()"
   ]
  },
  {
   "cell_type": "code",
   "execution_count": null,
   "id": "db3a622e",
   "metadata": {},
   "outputs": [],
   "source": []
  },
  {
   "cell_type": "markdown",
   "id": "868680e8",
   "metadata": {},
   "source": [
    "补充creating和retweeting的bar图"
   ]
  },
  {
   "cell_type": "code",
   "execution_count": 17,
   "id": "9f1c422c",
   "metadata": {},
   "outputs": [
    {
     "data": {
      "image/png": "[encoded data removed]",
      "text/plain": [
       "<Figure size 684x504 with 1 Axes>"
      ]
     },
     "metadata": {
      "needs_background": "light"
     },
     "output_type": "display_data"
    }
   ],
   "source": [
    "fig, ax = plt.subplots(1,1,figsize=(9.5,7))\n",
    "sns.set_theme(style=\"white\")\n",
    "#flatui = [\"#348634\", \"#7eb17e\", \"#c8dcc8\", \"#efcece\", \"#e98888\",\"#e24343\"]\n",
    "flatui = [\"#279327\", \"#75b975\", \"#c4e0c4\", \"#f5c8c8\", \"#f97878\",\"#fd2828\"]\n",
    "sns.pointplot(x = 'bins',y = 'retweeted',data = olhc_n,ax = ax,join = False,ci = 'sd',catsize = 1,scale=2.25,\n",
    "                order = ['(-10.0, -4.2]','(-4.2, -1.4]','(-1.4, 0.0]','(0.0, 1.4]','(1.4, 4.2]','(4.2, 10.0]'],\n",
    "               palette=sns.color_palette(flatui),saturation=1,errwidth = 3,markers='o')\n",
    "plt.xlabel('$r$',fontdict={'weight': 'normal', 'size': 15})\n",
    "plt.ylabel('retweeting',fontdict={'weight': 'normal', 'size': 15})\n",
    "plt.yticks(fontproperties = 'Times New Roman',size = 14)\n",
    "plt.xticks(fontproperties = 'Times New Roman', size = 14)\n",
    "#change_width(ax,.5)\n",
    "plt.savefig('C:/Users/Lenovo/Desktop/retweeting_pointplot.pdf',dpi = 300)\n",
    "plt.show()"
   ]
  },
  {
   "cell_type": "code",
   "execution_count": 18,
   "id": "f68922b1",
   "metadata": {},
   "outputs": [
    {
     "data": {
      "image/png": "[encoded data removed]",
      "text/plain": [
       "<Figure size 684x504 with 1 Axes>"
      ]
     },
     "metadata": {},
     "output_type": "display_data"
    }
   ],
   "source": [
    "fig, ax = plt.subplots(1,1,figsize=(9.5,7))\n",
    "sns.set_theme(style=\"white\")\n",
    "#flatui = [\"#348634\", \"#7eb17e\", \"#c8dcc8\", \"#efcece\", \"#e98888\",\"#e24343\"]\n",
    "flatui = [\"#279327\", \"#75b975\", \"#c4e0c4\", \"#f5c8c8\", \"#f97878\",\"#fd2828\"]\n",
    "sns.pointplot(x = 'bins',y = 'original',data = olhc_n,ax = ax,join = False,ci = 'sd',catsize = 1,scale=2.25,\n",
    "                order = ['(-10.0, -4.2]','(-4.2, -1.4]','(-1.4, 0.0]','(0.0, 1.4]','(1.4, 4.2]','(4.2, 10.0]'],\n",
    "               palette=sns.color_palette(flatui),saturation=1,errwidth = 3,markers='o')\n",
    "plt.xlabel('$r$',fontdict={'weight': 'normal', 'size': 15})\n",
    "plt.ylabel('creating',fontdict={'weight': 'normal', 'size': 15})\n",
    "plt.yticks(fontproperties = 'Times New Roman',size = 14)\n",
    "plt.xticks(fontproperties = 'Times New Roman', size = 14)\n",
    "#change_width(ax,.5)\n",
    "plt.savefig('C:/Users/Lenovo/Desktop/creating_pointplot.pdf',dpi = 300)\n",
    "plt.show()"
   ]
  },
  {
   "cell_type": "markdown",
   "id": "f5d17e91",
   "metadata": {},
   "source": [
    "补充DNP的图"
   ]
  },
  {
   "cell_type": "code",
   "execution_count": 4,
   "id": "bcb01a1f",
   "metadata": {},
   "outputs": [
    {
     "data": {
      "image/png": "[encoded data removed]",
      "text/plain": [
       "<Figure size 684x504 with 1 Axes>"
      ]
     },
     "metadata": {
      "needs_background": "light"
     },
     "output_type": "display_data"
    }
   ],
   "source": [
    "fig, ax = plt.subplots(1,1,figsize=(9.5,7))\n",
    "sns.set_theme(style=\"white\")\n",
    "#flatui = [\"#348634\", \"#7eb17e\", \"#c8dcc8\", \"#efcece\", \"#e98888\",\"#e24343\"]\n",
    "flatui = [\"#279327\", \"#75b975\", \"#c4e0c4\", \"#f5c8c8\", \"#f97878\",\"#fd2828\"]\n",
    "sns.pointplot(x = 'bins',y = 'DNP',data = hddf,ax = ax,join = False,ci = 'sd',catsize = 1,scale=2.25,\n",
    "                order = ['(-10.0, -4.2]','(-4.2, -1.4]','(-1.4, 0.0]','(0.0, 1.4]','(1.4, 4.2]','(4.2, 10.0]'],\n",
    "               palette=sns.color_palette(flatui),saturation=1,errwidth = 3,markers='o')\n",
    "plt.xlabel('$r$',fontdict={'weight': 'normal', 'size': 15})\n",
    "plt.ylabel('DNP',fontdict={'weight': 'normal', 'size': 15})\n",
    "plt.yticks(fontproperties = 'Times New Roman',size = 14)\n",
    "plt.xticks(fontproperties = 'Times New Roman', size = 14)\n",
    "#change_width(ax,.5)\n",
    "plt.savefig('C:/Users/Lenovo/Desktop/论文补充资料/DNP.pdf',dpi = 300)\n",
    "plt.show()"
   ]
  },
  {
   "cell_type": "code",
   "execution_count": null,
   "id": "d98e53b9",
   "metadata": {},
   "outputs": [],
   "source": []
  },
  {
   "cell_type": "code",
   "execution_count": null,
   "id": "18051bd6",
   "metadata": {},
   "outputs": [],
   "source": []
  },
  {
   "cell_type": "code",
   "execution_count": null,
   "id": "a3a1842d",
   "metadata": {},
   "outputs": [],
   "source": []
  },
  {
   "cell_type": "code",
   "execution_count": null,
   "id": "a08e894c",
   "metadata": {},
   "outputs": [],
   "source": []
  }
 ],
 "metadata": {
  "kernelspec": {
   "display_name": "Python 3",
   "language": "python",
   "name": "python3"
  },
  "language_info": {
   "codemirror_mode": {
    "name": "ipython",
    "version": 3
   },
   "file_extension": ".py",
   "mimetype": "text/x-python",
   "name": "python",
   "nbconvert_exporter": "python",
   "pygments_lexer": "ipython3",
   "version": "3.9.16"
  },
  "toc": {
   "base_numbering": 1,
   "nav_menu": {},
   "number_sections": true,
   "sideBar": true,
   "skip_h1_title": false,
   "title_cell": "Table of Contents",
   "title_sidebar": "Contents",
   "toc_cell": false,
   "toc_position": {},
   "toc_section_display": true,
   "toc_window_display": false
  }
 },
 "nbformat": 4,
 "nbformat_minor": 5
}
