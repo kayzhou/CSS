{
 "cells": [
  {
   "cell_type": "code",
   "execution_count": 6,
   "id": "581dcde8",
   "metadata": {},
   "outputs": [],
   "source": [
    "import os\n",
    "import pandas as pd\n",
    "import numpy as np\n",
    "import matplotlib.pyplot as plt\n",
    "import seaborn as sns\n",
    "import statsmodels.api as sm\n",
    "import pylab\n",
    "from statsmodels.formula.api import ols\n",
    "from statsmodels.stats.anova import anova_lm\n",
    "from statsmodels.stats.multicomp import pairwise_tukeyhsd\n",
    "from scipy import stats\n",
    "from scipy.stats import zscore\n",
    "%matplotlib inline"
   ]
  },
  {
   "cell_type": "code",
   "execution_count": 2,
   "id": "7b0b3ff6",
   "metadata": {},
   "outputs": [
    {
     "data": {
      "text/html": [
       "<div>\n",
       "<style scoped>\n",
       "    .dataframe tbody tr th:only-of-type {\n",
       "        vertical-align: middle;\n",
       "    }\n",
       "\n",
       "    .dataframe tbody tr th {\n",
       "        vertical-align: top;\n",
       "    }\n",
       "\n",
       "    .dataframe thead th {\n",
       "        text-align: right;\n",
       "    }\n",
       "</style>\n",
       "<table border=\"1\" class=\"dataframe\">\n",
       "  <thead>\n",
       "    <tr style=\"text-align: right;\">\n",
       "      <th></th>\n",
       "      <th>date</th>\n",
       "      <th>topic0</th>\n",
       "      <th>topic1</th>\n",
       "      <th>topic2</th>\n",
       "      <th>topic3</th>\n",
       "      <th>topic4</th>\n",
       "      <th>topic5</th>\n",
       "    </tr>\n",
       "  </thead>\n",
       "  <tbody>\n",
       "    <tr>\n",
       "      <th>0</th>\n",
       "      <td>2014/12/2</td>\n",
       "      <td>2518</td>\n",
       "      <td>396</td>\n",
       "      <td>138</td>\n",
       "      <td>3</td>\n",
       "      <td>18677</td>\n",
       "      <td>0</td>\n",
       "    </tr>\n",
       "    <tr>\n",
       "      <th>1</th>\n",
       "      <td>2014/12/3</td>\n",
       "      <td>2621</td>\n",
       "      <td>456</td>\n",
       "      <td>14</td>\n",
       "      <td>0</td>\n",
       "      <td>24371</td>\n",
       "      <td>0</td>\n",
       "    </tr>\n",
       "    <tr>\n",
       "      <th>2</th>\n",
       "      <td>2014/12/4</td>\n",
       "      <td>3755</td>\n",
       "      <td>570</td>\n",
       "      <td>93</td>\n",
       "      <td>0</td>\n",
       "      <td>34843</td>\n",
       "      <td>13</td>\n",
       "    </tr>\n",
       "    <tr>\n",
       "      <th>3</th>\n",
       "      <td>2014/12/5</td>\n",
       "      <td>3341</td>\n",
       "      <td>536</td>\n",
       "      <td>95</td>\n",
       "      <td>1</td>\n",
       "      <td>33455</td>\n",
       "      <td>6</td>\n",
       "    </tr>\n",
       "    <tr>\n",
       "      <th>4</th>\n",
       "      <td>2014/12/8</td>\n",
       "      <td>2735</td>\n",
       "      <td>477</td>\n",
       "      <td>23</td>\n",
       "      <td>0</td>\n",
       "      <td>26622</td>\n",
       "      <td>3</td>\n",
       "    </tr>\n",
       "  </tbody>\n",
       "</table>\n",
       "</div>"
      ],
      "text/plain": [
       "        date  topic0  topic1  topic2  topic3  topic4  topic5\n",
       "0  2014/12/2    2518     396     138       3   18677       0\n",
       "1  2014/12/3    2621     456      14       0   24371       0\n",
       "2  2014/12/4    3755     570      93       0   34843      13\n",
       "3  2014/12/5    3341     536      95       1   33455       6\n",
       "4  2014/12/8    2735     477      23       0   26622       3"
      ]
     },
     "execution_count": 2,
     "metadata": {},
     "output_type": "execute_result"
    }
   ],
   "source": [
    "topic = pd.read_csv('LDA/lda_classification.csv')\n",
    "topic.head()"
   ]
  },
  {
   "cell_type": "code",
   "execution_count": 13,
   "id": "e1017f6b",
   "metadata": {},
   "outputs": [],
   "source": [
    "#以topic5列为例计算\n",
    "qt = stats.scoreatpercentile(topic[\"topic5\"],[1,99])#存储两个极端值，用于截断\n",
    "topic['5'] = topic['topic5'][(topic['topic5']>qt[0])&(topic['topic5']<qt[1])]\n",
    "topic['5'] = pd.DataFrame(topic['5'])\n",
    "topic['5'].to_csv('topic5.csv')"
   ]
  },
  {
   "cell_type": "code",
   "execution_count": 26,
   "id": "d960c1bc",
   "metadata": {},
   "outputs": [],
   "source": [
    "cols = list(trancate_topic.columns)\n",
    "cols.remove('date')\n",
    "#trancate_topic[cols]\n",
    "for col in cols:\n",
    "    col_zscore = col + '_zscore'\n",
    "    trancate_topic[col_zscore] = (trancate_topic[col] - trancate_topic[col].mean())/trancate_topic[col].std(ddof=0)\n",
    "trancate_topic.to_csv('trancate_zscore.csv')"
   ]
  },
  {
   "cell_type": "code",
   "execution_count": null,
   "id": "e32f3d52",
   "metadata": {},
   "outputs": [],
   "source": []
  }
 ],
 "metadata": {
  "kernelspec": {
   "display_name": "Python 3",
   "language": "python",
   "name": "python3"
  },
  "language_info": {
   "codemirror_mode": {
    "name": "ipython",
    "version": 3
   },
   "file_extension": ".py",
   "mimetype": "text/x-python",
   "name": "python",
   "nbconvert_exporter": "python",
   "pygments_lexer": "ipython3",
   "version": "3.8.8"
  },
  "toc": {
   "base_numbering": 1,
   "nav_menu": {},
   "number_sections": true,
   "sideBar": true,
   "skip_h1_title": false,
   "title_cell": "Table of Contents",
   "title_sidebar": "Contents",
   "toc_cell": false,
   "toc_position": {},
   "toc_section_display": true,
   "toc_window_display": false
  }
 },
 "nbformat": 4,
 "nbformat_minor": 5
}
